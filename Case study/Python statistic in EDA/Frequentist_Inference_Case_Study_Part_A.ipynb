{
  "cells": [
    {
      "cell_type": "markdown",
      "metadata": {
        "id": "qP9ete77wMaQ"
      },
      "source": [
        "# Frequentist Inference Case Study - Part A"
      ]
    },
    {
      "cell_type": "markdown",
      "metadata": {
        "id": "VxvAQvSkwMaW"
      },
      "source": [
        "## 1. Learning objectives"
      ]
    },
    {
      "cell_type": "markdown",
      "metadata": {
        "id": "7DRoAdlWwMaX"
      },
      "source": [
        "Welcome to part A of the Frequentist inference case study! The purpose of this case study is to help you apply the concepts associated with Frequentist inference in Python. Frequentist inference is the process of deriving conclusions about an underlying distribution via the observation of data. In particular, you'll practice writing Python code to apply the following statistical concepts:\n",
        "* the _z_-statistic\n",
        "* the _t_-statistic\n",
        "* the difference and relationship between the two\n",
        "* the Central Limit Theorem, including its assumptions and consequences\n",
        "* how to estimate the population mean and standard deviation from a sample\n",
        "* the concept of a sampling distribution of a test statistic, particularly for the mean\n",
        "* how to combine these concepts to calculate a confidence interval"
      ]
    },
    {
      "cell_type": "markdown",
      "metadata": {
        "id": "4jORyc8ywMaa"
      },
      "source": [
        "## Prerequisites"
      ]
    },
    {
      "cell_type": "markdown",
      "metadata": {
        "id": "X1IULMgZwMab"
      },
      "source": [
        "To be able to complete this notebook, you are expected to have a basic understanding of:\n",
        "* what a random variable is (p.400 of Professor Spiegelhalter's *The Art of Statistics, hereinafter AoS*)\n",
        "* what a population, and a population distribution, are (p. 397 of *AoS*)\n",
        "* a high-level sense of what the normal distribution is (p. 394 of *AoS*)\n",
        "* what the t-statistic is (p. 275 of *AoS*)\n",
        "\n",
        "Happily, these should all be concepts with which you are reasonably familiar after having read ten chapters of Professor Spiegelhalter's book, *The Art of Statistics*.\n",
        "\n",
        "We'll try to relate the concepts in this case study back to page numbers in *The Art of Statistics* so that you can focus on the Python aspects of this case study. The second part (part B) of this case study will involve another, more real-world application of these tools."
      ]
    },
    {
      "cell_type": "markdown",
      "metadata": {
        "id": "4pU_ZccxwMac"
      },
      "source": [
        "For this notebook, we will use data sampled from a known normal distribution. This allows us to compare our results with theoretical expectations."
      ]
    },
    {
      "cell_type": "markdown",
      "metadata": {
        "id": "deoz16eywMad"
      },
      "source": [
        "## 2. An introduction to sampling from the normal distribution"
      ]
    },
    {
      "cell_type": "markdown",
      "metadata": {
        "id": "t83o_ibcwMae"
      },
      "source": [
        "First, let's explore the ways we can generate the normal distribution. While there's a fair amount of interest in [sklearn](https://scikit-learn.org/stable/) within the machine learning community, you're likely to have heard of [scipy](https://docs.scipy.org/doc/scipy-0.15.1/reference/index.html) if you're coming from the sciences. For this assignment, you'll use [scipy.stats](https://docs.scipy.org/doc/scipy-0.15.1/reference/tutorial/stats.html) to complete your work.\n",
        "\n",
        "This assignment will require some digging around and getting your hands dirty (your learning is maximized that way)! You should have the research skills and the tenacity to do these tasks independently, but if you struggle, reach out to your immediate community and your mentor for help."
      ]
    },
    {
      "cell_type": "code",
      "execution_count": 1,
      "metadata": {
        "id": "nPNwRqxAwMaf"
      },
      "outputs": [],
      "source": [
        "from scipy import stats\n",
        "from scipy.stats import norm\n",
        "from scipy.stats import t\n",
        "import numpy as np\n",
        "import pandas as pd\n",
        "from numpy.random import seed\n",
        "import matplotlib.pyplot as plt"
      ]
    },
    {
      "cell_type": "code",
      "source": [
        "from google.colab import files\n",
        "uploaded = files.upload()\n"
      ],
      "metadata": {
        "colab": {
          "base_uri": "https://localhost:8080/",
          "height": 36
        },
        "id": "DH0EwjF4xJD7",
        "outputId": "caf213ee-f542-4232-c335-1fa2751b6001"
      },
      "execution_count": 2,
      "outputs": [
        {
          "output_type": "display_data",
          "data": {
            "text/plain": [
              "<IPython.core.display.HTML object>"
            ],
            "text/html": [
              "\n",
              "     <input type=\"file\" id=\"files-c2141563-c006-4451-ada5-5a33414fc78c\" name=\"files[]\" multiple disabled\n",
              "        style=\"border:none\" />\n",
              "     <output id=\"result-c2141563-c006-4451-ada5-5a33414fc78c\">\n",
              "      Upload widget is only available when the cell has been executed in the\n",
              "      current browser session. Please rerun this cell to enable.\n",
              "      </output>\n",
              "      <script>// Copyright 2017 Google LLC\n",
              "//\n",
              "// Licensed under the Apache License, Version 2.0 (the \"License\");\n",
              "// you may not use this file except in compliance with the License.\n",
              "// You may obtain a copy of the License at\n",
              "//\n",
              "//      http://www.apache.org/licenses/LICENSE-2.0\n",
              "//\n",
              "// Unless required by applicable law or agreed to in writing, software\n",
              "// distributed under the License is distributed on an \"AS IS\" BASIS,\n",
              "// WITHOUT WARRANTIES OR CONDITIONS OF ANY KIND, either express or implied.\n",
              "// See the License for the specific language governing permissions and\n",
              "// limitations under the License.\n",
              "\n",
              "/**\n",
              " * @fileoverview Helpers for google.colab Python module.\n",
              " */\n",
              "(function(scope) {\n",
              "function span(text, styleAttributes = {}) {\n",
              "  const element = document.createElement('span');\n",
              "  element.textContent = text;\n",
              "  for (const key of Object.keys(styleAttributes)) {\n",
              "    element.style[key] = styleAttributes[key];\n",
              "  }\n",
              "  return element;\n",
              "}\n",
              "\n",
              "// Max number of bytes which will be uploaded at a time.\n",
              "const MAX_PAYLOAD_SIZE = 100 * 1024;\n",
              "\n",
              "function _uploadFiles(inputId, outputId) {\n",
              "  const steps = uploadFilesStep(inputId, outputId);\n",
              "  const outputElement = document.getElementById(outputId);\n",
              "  // Cache steps on the outputElement to make it available for the next call\n",
              "  // to uploadFilesContinue from Python.\n",
              "  outputElement.steps = steps;\n",
              "\n",
              "  return _uploadFilesContinue(outputId);\n",
              "}\n",
              "\n",
              "// This is roughly an async generator (not supported in the browser yet),\n",
              "// where there are multiple asynchronous steps and the Python side is going\n",
              "// to poll for completion of each step.\n",
              "// This uses a Promise to block the python side on completion of each step,\n",
              "// then passes the result of the previous step as the input to the next step.\n",
              "function _uploadFilesContinue(outputId) {\n",
              "  const outputElement = document.getElementById(outputId);\n",
              "  const steps = outputElement.steps;\n",
              "\n",
              "  const next = steps.next(outputElement.lastPromiseValue);\n",
              "  return Promise.resolve(next.value.promise).then((value) => {\n",
              "    // Cache the last promise value to make it available to the next\n",
              "    // step of the generator.\n",
              "    outputElement.lastPromiseValue = value;\n",
              "    return next.value.response;\n",
              "  });\n",
              "}\n",
              "\n",
              "/**\n",
              " * Generator function which is called between each async step of the upload\n",
              " * process.\n",
              " * @param {string} inputId Element ID of the input file picker element.\n",
              " * @param {string} outputId Element ID of the output display.\n",
              " * @return {!Iterable<!Object>} Iterable of next steps.\n",
              " */\n",
              "function* uploadFilesStep(inputId, outputId) {\n",
              "  const inputElement = document.getElementById(inputId);\n",
              "  inputElement.disabled = false;\n",
              "\n",
              "  const outputElement = document.getElementById(outputId);\n",
              "  outputElement.innerHTML = '';\n",
              "\n",
              "  const pickedPromise = new Promise((resolve) => {\n",
              "    inputElement.addEventListener('change', (e) => {\n",
              "      resolve(e.target.files);\n",
              "    });\n",
              "  });\n",
              "\n",
              "  const cancel = document.createElement('button');\n",
              "  inputElement.parentElement.appendChild(cancel);\n",
              "  cancel.textContent = 'Cancel upload';\n",
              "  const cancelPromise = new Promise((resolve) => {\n",
              "    cancel.onclick = () => {\n",
              "      resolve(null);\n",
              "    };\n",
              "  });\n",
              "\n",
              "  // Wait for the user to pick the files.\n",
              "  const files = yield {\n",
              "    promise: Promise.race([pickedPromise, cancelPromise]),\n",
              "    response: {\n",
              "      action: 'starting',\n",
              "    }\n",
              "  };\n",
              "\n",
              "  cancel.remove();\n",
              "\n",
              "  // Disable the input element since further picks are not allowed.\n",
              "  inputElement.disabled = true;\n",
              "\n",
              "  if (!files) {\n",
              "    return {\n",
              "      response: {\n",
              "        action: 'complete',\n",
              "      }\n",
              "    };\n",
              "  }\n",
              "\n",
              "  for (const file of files) {\n",
              "    const li = document.createElement('li');\n",
              "    li.append(span(file.name, {fontWeight: 'bold'}));\n",
              "    li.append(span(\n",
              "        `(${file.type || 'n/a'}) - ${file.size} bytes, ` +\n",
              "        `last modified: ${\n",
              "            file.lastModifiedDate ? file.lastModifiedDate.toLocaleDateString() :\n",
              "                                    'n/a'} - `));\n",
              "    const percent = span('0% done');\n",
              "    li.appendChild(percent);\n",
              "\n",
              "    outputElement.appendChild(li);\n",
              "\n",
              "    const fileDataPromise = new Promise((resolve) => {\n",
              "      const reader = new FileReader();\n",
              "      reader.onload = (e) => {\n",
              "        resolve(e.target.result);\n",
              "      };\n",
              "      reader.readAsArrayBuffer(file);\n",
              "    });\n",
              "    // Wait for the data to be ready.\n",
              "    let fileData = yield {\n",
              "      promise: fileDataPromise,\n",
              "      response: {\n",
              "        action: 'continue',\n",
              "      }\n",
              "    };\n",
              "\n",
              "    // Use a chunked sending to avoid message size limits. See b/62115660.\n",
              "    let position = 0;\n",
              "    do {\n",
              "      const length = Math.min(fileData.byteLength - position, MAX_PAYLOAD_SIZE);\n",
              "      const chunk = new Uint8Array(fileData, position, length);\n",
              "      position += length;\n",
              "\n",
              "      const base64 = btoa(String.fromCharCode.apply(null, chunk));\n",
              "      yield {\n",
              "        response: {\n",
              "          action: 'append',\n",
              "          file: file.name,\n",
              "          data: base64,\n",
              "        },\n",
              "      };\n",
              "\n",
              "      let percentDone = fileData.byteLength === 0 ?\n",
              "          100 :\n",
              "          Math.round((position / fileData.byteLength) * 100);\n",
              "      percent.textContent = `${percentDone}% done`;\n",
              "\n",
              "    } while (position < fileData.byteLength);\n",
              "  }\n",
              "\n",
              "  // All done.\n",
              "  yield {\n",
              "    response: {\n",
              "      action: 'complete',\n",
              "    }\n",
              "  };\n",
              "}\n",
              "\n",
              "scope.google = scope.google || {};\n",
              "scope.google.colab = scope.google.colab || {};\n",
              "scope.google.colab._files = {\n",
              "  _uploadFiles,\n",
              "  _uploadFilesContinue,\n",
              "};\n",
              "})(self);\n",
              "</script> "
            ]
          },
          "metadata": {}
        }
      ]
    },
    {
      "cell_type": "markdown",
      "metadata": {
        "id": "s1w1TeePwMai"
      },
      "source": [
        "__Q1:__ Call up the documentation for the `norm` function imported above. (Hint: that documentation is [here](https://docs.scipy.org/doc/scipy/reference/generated/scipy.stats.norm.html)). What is the second listed method?"
      ]
    },
    {
      "cell_type": "code",
      "execution_count": 3,
      "metadata": {
        "colab": {
          "base_uri": "https://localhost:8080/"
        },
        "id": "aHqmEjnfwMaj",
        "outputId": "6a3a88ec-caa0-467a-bf7c-2b91f9c389e2"
      },
      "outputs": [
        {
          "output_type": "stream",
          "name": "stdout",
          "text": [
            "Help on norm_gen in module scipy.stats._continuous_distns:\n",
            "\n",
            "<scipy.stats._continuous_distns.norm_gen object>\n",
            "    A normal continuous random variable.\n",
            "    \n",
            "    The location (``loc``) keyword specifies the mean.\n",
            "    The scale (``scale``) keyword specifies the standard deviation.\n",
            "    \n",
            "    As an instance of the `rv_continuous` class, `norm` object inherits from it\n",
            "    a collection of generic methods (see below for the full list),\n",
            "    and completes them with details specific for this particular distribution.\n",
            "    \n",
            "    Methods\n",
            "    -------\n",
            "    rvs(loc=0, scale=1, size=1, random_state=None)\n",
            "        Random variates.\n",
            "    pdf(x, loc=0, scale=1)\n",
            "        Probability density function.\n",
            "    logpdf(x, loc=0, scale=1)\n",
            "        Log of the probability density function.\n",
            "    cdf(x, loc=0, scale=1)\n",
            "        Cumulative distribution function.\n",
            "    logcdf(x, loc=0, scale=1)\n",
            "        Log of the cumulative distribution function.\n",
            "    sf(x, loc=0, scale=1)\n",
            "        Survival function  (also defined as ``1 - cdf``, but `sf` is sometimes more accurate).\n",
            "    logsf(x, loc=0, scale=1)\n",
            "        Log of the survival function.\n",
            "    ppf(q, loc=0, scale=1)\n",
            "        Percent point function (inverse of ``cdf`` --- percentiles).\n",
            "    isf(q, loc=0, scale=1)\n",
            "        Inverse survival function (inverse of ``sf``).\n",
            "    moment(order, loc=0, scale=1)\n",
            "        Non-central moment of the specified order.\n",
            "    stats(loc=0, scale=1, moments='mv')\n",
            "        Mean('m'), variance('v'), skew('s'), and/or kurtosis('k').\n",
            "    entropy(loc=0, scale=1)\n",
            "        (Differential) entropy of the RV.\n",
            "    fit(data)\n",
            "        Parameter estimates for generic data.\n",
            "        See `scipy.stats.rv_continuous.fit <https://docs.scipy.org/doc/scipy/reference/generated/scipy.stats.rv_continuous.fit.html#scipy.stats.rv_continuous.fit>`__ for detailed documentation of the\n",
            "        keyword arguments.\n",
            "    expect(func, args=(), loc=0, scale=1, lb=None, ub=None, conditional=False, **kwds)\n",
            "        Expected value of a function (of one argument) with respect to the distribution.\n",
            "    median(loc=0, scale=1)\n",
            "        Median of the distribution.\n",
            "    mean(loc=0, scale=1)\n",
            "        Mean of the distribution.\n",
            "    var(loc=0, scale=1)\n",
            "        Variance of the distribution.\n",
            "    std(loc=0, scale=1)\n",
            "        Standard deviation of the distribution.\n",
            "    interval(confidence, loc=0, scale=1)\n",
            "        Confidence interval with equal areas around the median.\n",
            "    \n",
            "    Notes\n",
            "    -----\n",
            "    The probability density function for `norm` is:\n",
            "    \n",
            "    .. math::\n",
            "    \n",
            "        f(x) = \\frac{\\exp(-x^2/2)}{\\sqrt{2\\pi}}\n",
            "    \n",
            "    for a real number :math:`x`.\n",
            "    \n",
            "    The probability density above is defined in the \"standardized\" form. To shift\n",
            "    and/or scale the distribution use the ``loc`` and ``scale`` parameters.\n",
            "    Specifically, ``norm.pdf(x, loc, scale)`` is identically\n",
            "    equivalent to ``norm.pdf(y) / scale`` with\n",
            "    ``y = (x - loc) / scale``. Note that shifting the location of a distribution\n",
            "    does not make it a \"noncentral\" distribution; noncentral generalizations of\n",
            "    some distributions are available in separate classes.\n",
            "    \n",
            "    Examples\n",
            "    --------\n",
            "    >>> import numpy as np\n",
            "    >>> from scipy.stats import norm\n",
            "    >>> import matplotlib.pyplot as plt\n",
            "    >>> fig, ax = plt.subplots(1, 1)\n",
            "    \n",
            "    Calculate the first four moments:\n",
            "    \n",
            "    \n",
            "    >>> mean, var, skew, kurt = norm.stats(moments='mvsk')\n",
            "    \n",
            "    Display the probability density function (``pdf``):\n",
            "    \n",
            "    >>> x = np.linspace(norm.ppf(0.01),\n",
            "    ...                 norm.ppf(0.99), 100)\n",
            "    >>> ax.plot(x, norm.pdf(x),\n",
            "    ...        'r-', lw=5, alpha=0.6, label='norm pdf')\n",
            "    \n",
            "    Alternatively, the distribution object can be called (as a function)\n",
            "    to fix the shape, location and scale parameters. This returns a \"frozen\"\n",
            "    RV object holding the given parameters fixed.\n",
            "    \n",
            "    Freeze the distribution and display the frozen ``pdf``:\n",
            "    \n",
            "    >>> rv = norm()\n",
            "    >>> ax.plot(x, rv.pdf(x), 'k-', lw=2, label='frozen pdf')\n",
            "    \n",
            "    Check accuracy of ``cdf`` and ``ppf``:\n",
            "    \n",
            "    >>> vals = norm.ppf([0.001, 0.5, 0.999])\n",
            "    >>> np.allclose([0.001, 0.5, 0.999], norm.cdf(vals))\n",
            "    True\n",
            "    \n",
            "    Generate random numbers:\n",
            "    \n",
            "    >>> r = norm.rvs(size=1000)\n",
            "    \n",
            "    And compare the histogram:\n",
            "    \n",
            "    >>> ax.hist(r, density=True, bins='auto', histtype='stepfilled', alpha=0.2)\n",
            "    >>> ax.set_xlim([x[0], x[-1]])\n",
            "    >>> ax.legend(loc='best', frameon=False)\n",
            "    >>> plt.show()\n",
            "\n"
          ]
        }
      ],
      "source": [
        "help(stats.norm)\n"
      ]
    },
    {
      "cell_type": "markdown",
      "metadata": {
        "id": "zMpTmWVTwMaj"
      },
      "source": [
        "__A:__ In the documentation for scipy.stats.norm, the second listed method is pdf(x, loc=0, scale=1), which stands for the probability density function. This method computes the likelihood of a continuous random variable taking a specific value x, assuming a normal distribution with a specified mean (loc) and standard deviation (scale). For the standard normal distribution, where loc=0 and scale=1, the pdf returns the height of the bell-shaped curve at the point x. It is commonly used to understand the shape and behavior of a distribution."
      ]
    },
    {
      "cell_type": "markdown",
      "metadata": {
        "id": "wTHM8UBQwMak"
      },
      "source": [
        "__Q2:__ Use the method that generates random variates to draw five samples from the standard normal distribution."
      ]
    },
    {
      "cell_type": "markdown",
      "metadata": {
        "id": "x5usmiCDwMak"
      },
      "source": [
        "__A:__   To generate five samples from the standard normal distribution, I used the rvs() method from scipy.stats.norm, which draws random variates based on the specified parameters. I set the mean (loc) to 0 and the standard deviation (scale) to 1, which corresponds to the standard normal distribution. To ensure the results were reproducible, I used np.random.seed(47) before drawing the samples. The five values generated were approximately: -0.8480, 1.3059, 0.9242, 0.6404, and -1.0547."
      ]
    },
    {
      "cell_type": "code",
      "execution_count": 4,
      "metadata": {
        "colab": {
          "base_uri": "https://localhost:8080/"
        },
        "id": "iZDLjYArwMal",
        "outputId": "51bcff78-bf6a-4b38-8b24-3c4f626e322f"
      },
      "outputs": [
        {
          "output_type": "stream",
          "name": "stdout",
          "text": [
            "Five random samples from standard normal distribution:\n",
            "[-0.84800948  1.30590636  0.92420797  0.6404118  -1.05473698]\n"
          ]
        }
      ],
      "source": [
        "seed(47)\n",
        "# draw five samples here\n",
        "samples = norm.rvs(loc=0, scale=1, size=5)\n",
        "\n",
        "print(\"Five random samples from standard normal distribution:\")\n",
        "print(samples)"
      ]
    },
    {
      "cell_type": "markdown",
      "metadata": {
        "id": "6p3C2zQuwMal"
      },
      "source": [
        "__Q3:__ What is the mean of this sample? Is it exactly equal to the value you expected? Hint: the sample was drawn from the standard normal distribution. If you want a reminder of the properties of this distribution, check out p. 85 of *AoS*."
      ]
    },
    {
      "cell_type": "markdown",
      "metadata": {
        "id": "Kr8C72ubwMam"
      },
      "source": [
        "__A:__ The mean of the five random samples drawn from the standard normal distribution is approximately 0.1936. This is not exactly equal to 0, which is the expected mean of a standard normal distribution. However, this difference is normal due to sampling variability, especially with a small sample size. As the number of samples increases, the sample mean would be expected to get closer to the true population mean of 0, in accordance with the law of large numbers."
      ]
    },
    {
      "cell_type": "code",
      "execution_count": 5,
      "metadata": {
        "colab": {
          "base_uri": "https://localhost:8080/"
        },
        "id": "HqC1-swawMam",
        "outputId": "bedcfe26-5137-43a2-87b9-ec184c5ea66f"
      },
      "outputs": [
        {
          "output_type": "stream",
          "name": "stdout",
          "text": [
            "Mean of the sample: 0.19355593334131074\n"
          ]
        }
      ],
      "source": [
        "# Calculate and print the mean here, hint: use np.mean()\n",
        "mean_sample = np.mean(samples)\n",
        "print(\"Mean of the sample:\", mean_sample)\n"
      ]
    },
    {
      "cell_type": "markdown",
      "metadata": {
        "id": "GnwdqS8MwMan"
      },
      "source": [
        "__Q4:__ What is the standard deviation of these numbers? Calculate this manually here as $\\sqrt{\\frac{\\sum_i(x_i - \\bar{x})^2}{n}}$ (This is just the definition of **standard deviation** given by Professor Spiegelhalter on p.403 of *AoS*). Hint: np.sqrt() and np.sum() will be useful here and remember that numPy supports [broadcasting](https://docs.scipy.org/doc/numpy/user/basics.broadcasting.html)."
      ]
    },
    {
      "cell_type": "markdown",
      "metadata": {
        "id": "e6iL4yXTwMao"
      },
      "source": [
        "__A:__ The standard deviation of the sample, calculated manually using the formula , is approximately 0.96. This value reflects how spread out the five sampled values are around the mean. Although the theoretical standard deviation of a standard normal distribution is 1, this slightly lower value is expected due to the small sample size and natural sampling variation.\n",
        "\n"
      ]
    },
    {
      "cell_type": "code",
      "execution_count": 6,
      "metadata": {
        "colab": {
          "base_uri": "https://localhost:8080/"
        },
        "id": "8p5DHMlQwMao",
        "outputId": "f27b1ca3-8ea8-4cdb-9f28-bc9dbbf2076a"
      },
      "outputs": [
        {
          "output_type": "stream",
          "name": "stdout",
          "text": [
            "Standard deviation (manual calculation): 0.9606195639478641\n"
          ]
        }
      ],
      "source": [
        "\n",
        "# Step 2: Subtract the mean and square the differences\n",
        "squared_diffs = (samples - mean_sample) ** 2\n",
        "\n",
        "# Step 3: Take the average of the squared differences\n",
        "variance = np.sum(squared_diffs) / len(samples)\n",
        "\n",
        "# Step 4: Take the square root\n",
        "std_dev = np.sqrt(variance)\n",
        "\n",
        "print(\"Standard deviation (manual calculation):\", std_dev)\n"
      ]
    },
    {
      "cell_type": "markdown",
      "metadata": {
        "id": "VKcavb_5wMao"
      },
      "source": [
        "Here we have calculated the actual standard deviation of a small data set (of size 5). But in this case, this small data set is actually a sample from our larger (infinite) population. In this case, the population is infinite because we could keep drawing our normal random variates until our computers die!\n",
        "\n",
        "In general, the sample mean we calculate will not be equal to the population mean (as we saw above). A consequence of this is that the sum of squares of the deviations from the _population_ mean will be bigger than the sum of squares of the deviations from the _sample_ mean. In other words, the sum of squares of the deviations from the _sample_ mean is too small to give an unbiased estimate of the _population_ variance. An example of this effect is given [here](https://en.wikipedia.org/wiki/Bessel%27s_correction#Source_of_bias). Scaling our estimate of the variance by the factor $n/(n-1)$ gives an unbiased estimator of the population variance. This factor is known as [Bessel's correction](https://en.wikipedia.org/wiki/Bessel%27s_correction). The consequence of this is that the $n$ in the denominator is replaced by $n-1$.\n",
        "\n",
        "You can see Bessel's correction reflected in Professor Spiegelhalter's definition of **variance** on p. 405 of *AoS*.\n",
        "\n",
        "__Q5:__ If all we had to go on was our five samples, what would be our best estimate of the population standard deviation? Use Bessel's correction ($n-1$ in the denominator), thus $\\sqrt{\\frac{\\sum_i(x_i - \\bar{x})^2}{n-1}}$."
      ]
    },
    {
      "cell_type": "markdown",
      "metadata": {
        "id": "-9We7HS_wMap"
      },
      "source": [
        "__A:__ To estimate the population standard deviation from our five samples, we applied Bessel’s correction by dividing the sum of squared deviations from the mean by\n",
        "n−1 instead of\n",
        "n. This correction accounts for the fact that a sample tends to underestimate the population variance. Using this formula, the best estimate of the population standard deviation based on our sample is approximately 1.0741. This value is slightly larger than the biased standard deviation calculated earlier (which used\n",
        "n in the denominator), as expected when correcting for sample bias.\n"
      ]
    },
    {
      "cell_type": "code",
      "execution_count": 7,
      "metadata": {
        "colab": {
          "base_uri": "https://localhost:8080/"
        },
        "id": "TOU1zlE2wMaq",
        "outputId": "c4046e57-d7d7-4d1f-8367-2ced7cb50046"
      },
      "outputs": [
        {
          "output_type": "stream",
          "name": "stdout",
          "text": [
            "Best estimate of population standard deviation (with Bessel's correction): 1.0740053227518152\n"
          ]
        }
      ],
      "source": [
        "# Step 4: Variance using Bessel's correction (divide by n-1)\n",
        "variance_unbiased = np.sum(squared_diffs) / (len(samples) - 1)\n",
        "\n",
        "# Step 5: Standard deviation\n",
        "std_dev_unbiased = np.sqrt(variance_unbiased)\n",
        "\n",
        "print(\"Best estimate of population standard deviation (with Bessel's correction):\", std_dev_unbiased)\n"
      ]
    },
    {
      "cell_type": "markdown",
      "metadata": {
        "id": "CQx93jS1wMaq"
      },
      "source": [
        "__Q6:__ Now use numpy's std function to calculate the standard deviation of our random samples. Which of the above standard deviations did it return?"
      ]
    },
    {
      "cell_type": "markdown",
      "metadata": {
        "id": "zbW2RVLfwMaq"
      },
      "source": [
        "__A:__  Using NumPy’s built-in np.std() function, we calculated the standard deviation of our five random samples as approximately 0.9280. This matches the biased standard deviation we computed earlier using the formula with\n",
        "𝑛\n",
        "n in the denominator (i.e., without Bessel's correction). This is expected because np.std() by default assumes you are calculating the population standard deviation and does not correct for sample bias. To calculate the unbiased version (as in Q5), we would need to use np.std(samples, ddof=1)"
      ]
    },
    {
      "cell_type": "code",
      "execution_count": 8,
      "metadata": {
        "colab": {
          "base_uri": "https://localhost:8080/"
        },
        "id": "rjmTDSAVwMar",
        "outputId": "bc5b42a2-2c2e-4bbd-c5c0-7dd6b82d8441"
      },
      "outputs": [
        {
          "output_type": "stream",
          "name": "stdout",
          "text": [
            "Standard deviation using np.std(): 0.9606195639478641\n"
          ]
        }
      ],
      "source": [
        "# Use NumPy's std function (default: population std dev, divides by n)\n",
        "std_np = np.std(samples)\n",
        "\n",
        "print(\"Standard deviation using np.std():\", std_np)\n"
      ]
    },
    {
      "cell_type": "markdown",
      "metadata": {
        "id": "DIU_EXHrwMas"
      },
      "source": [
        "__Q7:__ Consult the documentation for np.std() to see how to apply the correction for estimating the population parameter and verify this produces the expected result."
      ]
    },
    {
      "cell_type": "markdown",
      "metadata": {
        "id": "emwv4mpKwMas"
      },
      "source": [
        "__A:__ To apply Bessel’s correction using np.std(), we set ddof=1. This changes the denominator from\n",
        "n to\n",
        "n−1, giving an unbiased estimate of the population standard deviation. Using np.std(samples, ddof=1) gave us 1.0741, which matches our earlier manual calculation, confirming it works as expected.\n",
        "\n"
      ]
    },
    {
      "cell_type": "code",
      "execution_count": 9,
      "metadata": {
        "colab": {
          "base_uri": "https://localhost:8080/"
        },
        "id": "alztreMOwMat",
        "outputId": "80e8c40f-b3e4-4ed7-fdc2-93855f7cc37c"
      },
      "outputs": [
        {
          "output_type": "stream",
          "name": "stdout",
          "text": [
            "Help on _ArrayFunctionDispatcher in module numpy:\n",
            "\n",
            "std(a, axis=None, dtype=None, out=None, ddof=0, keepdims=<no value>, *, where=<no value>, mean=<no value>, correction=<no value>)\n",
            "    Compute the standard deviation along the specified axis.\n",
            "    \n",
            "    Returns the standard deviation, a measure of the spread of a distribution,\n",
            "    of the array elements. The standard deviation is computed for the\n",
            "    flattened array by default, otherwise over the specified axis.\n",
            "    \n",
            "    Parameters\n",
            "    ----------\n",
            "    a : array_like\n",
            "        Calculate the standard deviation of these values.\n",
            "    axis : None or int or tuple of ints, optional\n",
            "        Axis or axes along which the standard deviation is computed. The\n",
            "        default is to compute the standard deviation of the flattened array.\n",
            "    \n",
            "        .. versionadded:: 1.7.0\n",
            "    \n",
            "        If this is a tuple of ints, a standard deviation is performed over\n",
            "        multiple axes, instead of a single axis or all the axes as before.\n",
            "    dtype : dtype, optional\n",
            "        Type to use in computing the standard deviation. For arrays of\n",
            "        integer type the default is float64, for arrays of float types it is\n",
            "        the same as the array type.\n",
            "    out : ndarray, optional\n",
            "        Alternative output array in which to place the result. It must have\n",
            "        the same shape as the expected output but the type (of the calculated\n",
            "        values) will be cast if necessary.\n",
            "        See :ref:`ufuncs-output-type` for more details.\n",
            "    ddof : {int, float}, optional\n",
            "        Means Delta Degrees of Freedom.  The divisor used in calculations\n",
            "        is ``N - ddof``, where ``N`` represents the number of elements.\n",
            "        By default `ddof` is zero. See Notes for details about use of `ddof`.\n",
            "    keepdims : bool, optional\n",
            "        If this is set to True, the axes which are reduced are left\n",
            "        in the result as dimensions with size one. With this option,\n",
            "        the result will broadcast correctly against the input array.\n",
            "    \n",
            "        If the default value is passed, then `keepdims` will not be\n",
            "        passed through to the `std` method of sub-classes of\n",
            "        `ndarray`, however any non-default value will be.  If the\n",
            "        sub-class' method does not implement `keepdims` any\n",
            "        exceptions will be raised.\n",
            "    where : array_like of bool, optional\n",
            "        Elements to include in the standard deviation.\n",
            "        See `~numpy.ufunc.reduce` for details.\n",
            "    \n",
            "        .. versionadded:: 1.20.0\n",
            "    \n",
            "    mean : array_like, optional\n",
            "        Provide the mean to prevent its recalculation. The mean should have\n",
            "        a shape as if it was calculated with ``keepdims=True``.\n",
            "        The axis for the calculation of the mean should be the same as used in\n",
            "        the call to this std function.\n",
            "    \n",
            "        .. versionadded:: 1.26.0\n",
            "    \n",
            "    correction : {int, float}, optional\n",
            "        Array API compatible name for the ``ddof`` parameter. Only one of them\n",
            "        can be provided at the same time.\n",
            "    \n",
            "        .. versionadded:: 2.0.0\n",
            "    \n",
            "    Returns\n",
            "    -------\n",
            "    standard_deviation : ndarray, see dtype parameter above.\n",
            "        If `out` is None, return a new array containing the standard deviation,\n",
            "        otherwise return a reference to the output array.\n",
            "    \n",
            "    See Also\n",
            "    --------\n",
            "    var, mean, nanmean, nanstd, nanvar\n",
            "    :ref:`ufuncs-output-type`\n",
            "    \n",
            "    Notes\n",
            "    -----\n",
            "    There are several common variants of the array standard deviation\n",
            "    calculation. Assuming the input `a` is a one-dimensional NumPy array\n",
            "    and ``mean`` is either provided as an argument or computed as\n",
            "    ``a.mean()``, NumPy computes the standard deviation of an array as::\n",
            "    \n",
            "        N = len(a)\n",
            "        d2 = abs(a - mean)**2  # abs is for complex `a`\n",
            "        var = d2.sum() / (N - ddof)  # note use of `ddof`\n",
            "        std = var**0.5\n",
            "    \n",
            "    Different values of the argument `ddof` are useful in different\n",
            "    contexts. NumPy's default ``ddof=0`` corresponds with the expression:\n",
            "    \n",
            "    .. math::\n",
            "    \n",
            "        \\sqrt{\\frac{\\sum_i{|a_i - \\bar{a}|^2 }}{N}}\n",
            "    \n",
            "    which is sometimes called the \"population standard deviation\" in the field\n",
            "    of statistics because it applies the definition of standard deviation to\n",
            "    `a` as if `a` were a complete population of possible observations.\n",
            "    \n",
            "    Many other libraries define the standard deviation of an array\n",
            "    differently, e.g.:\n",
            "    \n",
            "    .. math::\n",
            "    \n",
            "        \\sqrt{\\frac{\\sum_i{|a_i - \\bar{a}|^2 }}{N - 1}}\n",
            "    \n",
            "    In statistics, the resulting quantity is sometimed called the \"sample\n",
            "    standard deviation\" because if `a` is a random sample from a larger\n",
            "    population, this calculation provides the square root of an unbiased\n",
            "    estimate of the variance of the population. The use of :math:`N-1` in the\n",
            "    denominator is often called \"Bessel's correction\" because it corrects for\n",
            "    bias (toward lower values) in the variance estimate introduced when the\n",
            "    sample mean of `a` is used in place of the true mean of the population.\n",
            "    The resulting estimate of the standard deviation is still biased, but less\n",
            "    than it would have been without the correction. For this quantity, use\n",
            "    ``ddof=1``.\n",
            "    \n",
            "    Note that, for complex numbers, `std` takes the absolute\n",
            "    value before squaring, so that the result is always real and nonnegative.\n",
            "    \n",
            "    For floating-point input, the standard deviation is computed using the same\n",
            "    precision the input has. Depending on the input data, this can cause\n",
            "    the results to be inaccurate, especially for float32 (see example below).\n",
            "    Specifying a higher-accuracy accumulator using the `dtype` keyword can\n",
            "    alleviate this issue.\n",
            "    \n",
            "    Examples\n",
            "    --------\n",
            "    >>> a = np.array([[1, 2], [3, 4]])\n",
            "    >>> np.std(a)\n",
            "    1.1180339887498949 # may vary\n",
            "    >>> np.std(a, axis=0)\n",
            "    array([1.,  1.])\n",
            "    >>> np.std(a, axis=1)\n",
            "    array([0.5,  0.5])\n",
            "    \n",
            "    In single precision, std() can be inaccurate:\n",
            "    \n",
            "    >>> a = np.zeros((2, 512*512), dtype=np.float32)\n",
            "    >>> a[0, :] = 1.0\n",
            "    >>> a[1, :] = 0.1\n",
            "    >>> np.std(a)\n",
            "    0.45000005\n",
            "    \n",
            "    Computing the standard deviation in float64 is more accurate:\n",
            "    \n",
            "    >>> np.std(a, dtype=np.float64)\n",
            "    0.44999999925494177 # may vary\n",
            "    \n",
            "    Specifying a where argument:\n",
            "    \n",
            "    >>> a = np.array([[14, 8, 11, 10], [7, 9, 10, 11], [10, 15, 5, 10]])\n",
            "    >>> np.std(a)\n",
            "    2.614064523559687 # may vary\n",
            "    >>> np.std(a, where=[[True], [True], [False]])\n",
            "    2.0\n",
            "    \n",
            "    Using the mean keyword to save computation time:\n",
            "    \n",
            "    >>> import numpy as np\n",
            "    >>> from timeit import timeit\n",
            "    >>> a = np.array([[14, 8, 11, 10], [7, 9, 10, 11], [10, 15, 5, 10]])\n",
            "    >>> mean = np.mean(a, axis=1, keepdims=True)\n",
            "    >>>\n",
            "    >>> g = globals()\n",
            "    >>> n = 10000\n",
            "    >>> t1 = timeit(\"std = np.std(a, axis=1, mean=mean)\", globals=g, number=n)\n",
            "    >>> t2 = timeit(\"std = np.std(a, axis=1)\", globals=g, number=n)\n",
            "    >>> print(f'Percentage execution time saved {100*(t2-t1)/t2:.0f}%')\n",
            "    #doctest: +SKIP\n",
            "    Percentage execution time saved 30%\n",
            "\n"
          ]
        }
      ],
      "source": [
        "help(np.std)\n"
      ]
    },
    {
      "cell_type": "code",
      "execution_count": 10,
      "metadata": {
        "colab": {
          "base_uri": "https://localhost:8080/"
        },
        "id": "2Zs2fVd5wMat",
        "outputId": "36940b0a-8786-4378-eedf-f1a70d6b8bc4"
      },
      "outputs": [
        {
          "output_type": "stream",
          "name": "stdout",
          "text": [
            "Standard deviation using np.std() with Bessel's correction (ddof=1): 1.0740053227518152\n"
          ]
        }
      ],
      "source": [
        "# Use Bessel's correction with ddof=1\n",
        "std_unbiased = np.std(samples, ddof=1)\n",
        "\n",
        "print(\"Standard deviation using np.std() with Bessel's correction (ddof=1):\", std_unbiased)\n"
      ]
    },
    {
      "cell_type": "markdown",
      "metadata": {
        "id": "xjzqU9VYwMat"
      },
      "source": [
        "### Summary of section"
      ]
    },
    {
      "cell_type": "markdown",
      "metadata": {
        "id": "lJTRTxKPwMau"
      },
      "source": [
        "In this section, you've been introduced to the scipy.stats package and used it to draw a small sample from the standard normal distribution. You've calculated the average (the mean) of this sample and seen that this is not exactly equal to the expected population parameter (which we know because we're generating the random variates from a specific, known distribution). You've been introduced to two ways of calculating the standard deviation; one uses $n$ in the denominator and the other uses $n-1$ (Bessel's correction). You've also seen which of these calculations np.std() performs by default and how to get it to generate the other."
      ]
    },
    {
      "cell_type": "markdown",
      "metadata": {
        "id": "OeJ40xYYwMau"
      },
      "source": [
        "You use $n$ as the denominator if you want to calculate the standard deviation of a sequence of numbers. You use $n-1$ if you are using this sequence of numbers to estimate the population parameter. This brings us to some terminology that can be a little confusing.\n",
        "\n",
        "The population parameter is traditionally written as $\\sigma$ and the sample statistic as $s$. Rather unhelpfully, $s$ is also called the sample standard deviation (using $n-1$) whereas the standard deviation of the sample uses $n$. That's right, we have the sample standard deviation and the standard deviation of the sample and they're not the same thing!\n",
        "\n",
        "The sample standard deviation\n",
        "\\begin{equation}\n",
        "s = \\sqrt{\\frac{\\sum_i(x_i - \\bar{x})^2}{n-1}} \\approx \\sigma,\n",
        "\\end{equation}\n",
        "is our best (unbiased) estimate of the population parameter ($\\sigma$).\n",
        "\n",
        "If your dataset _is_ your entire population, you simply want to calculate the population parameter, $\\sigma$, via\n",
        "\\begin{equation}\n",
        "\\sigma = \\sqrt{\\frac{\\sum_i(x_i - \\bar{x})^2}{n}}\n",
        "\\end{equation}\n",
        "as you have complete, full knowledge of your population. In other words, your sample _is_ your population. It's worth noting that we're dealing with what Professor Spiegehalter describes on p. 92 of *AoS* as a **metaphorical population**: we have all the data, and we act as if the data-point is taken from a population at random. We can think of this population as an imaginary space of possibilities.\n",
        "\n",
        "If, however, you have sampled _from_ your population, you only have partial knowledge of the state of your population. In this case, the standard deviation of your sample is not an unbiased estimate of the standard deviation of the population, in which case you seek to estimate that population parameter via the sample standard deviation, which uses the $n-1$ denominator."
      ]
    },
    {
      "cell_type": "markdown",
      "metadata": {
        "id": "T3qEOXlYwMav"
      },
      "source": [
        "Great work so far! Now let's dive deeper."
      ]
    },
    {
      "cell_type": "markdown",
      "metadata": {
        "id": "_DiDYxJjwMaw"
      },
      "source": [
        "## 3. Sampling distributions"
      ]
    },
    {
      "cell_type": "markdown",
      "metadata": {
        "id": "FTxIZp1dwMaw"
      },
      "source": [
        "So far we've been dealing with the concept of taking a sample from a population to infer the population parameters. One statistic we calculated for a sample was the mean. As our samples will be expected to vary from one draw to another, so will our sample statistics. If we were to perform repeat draws of size $n$ and calculate the mean of each, we would expect to obtain a distribution of values. This is the sampling distribution of the mean. **The Central Limit Theorem (CLT)** tells us that such a distribution will approach a normal distribution as $n$ increases (the intuitions behind the CLT are covered in full on p. 236 of *AoS*). For the sampling distribution of the mean, the standard deviation of this distribution is given by\n",
        "\n",
        "\\begin{equation}\n",
        "\\sigma_{mean} = \\frac{\\sigma}{\\sqrt n}\n",
        "\\end{equation}\n",
        "\n",
        "where $\\sigma_{mean}$ is the standard deviation of the sampling distribution of the mean and $\\sigma$ is the standard deviation of the population (the population parameter)."
      ]
    },
    {
      "cell_type": "markdown",
      "metadata": {
        "id": "bMrcHvcxwMax"
      },
      "source": [
        "This is important because typically we are dealing with samples from populations and all we know about the population is what we see in the sample. From this sample, we want to make inferences about the population. We may do this, for example, by looking at the histogram of the values and by calculating the mean and standard deviation (as estimates of the population parameters), and so we are intrinsically interested in how these quantities vary across samples.\n",
        "\n",
        "In other words, now that we've taken one sample of size $n$ and made some claims about the general population, what if we were to take another sample of size $n$? Would we get the same result? Would we make the same claims about the general population? This brings us to a fundamental question: _when we make some inference about a population based on our sample, how confident can we be that we've got it 'right'?_\n",
        "\n",
        "We need to think about **estimates and confidence intervals**: those concepts covered in Chapter 7, p. 189, of *AoS*."
      ]
    },
    {
      "cell_type": "markdown",
      "metadata": {
        "id": "WnK5Z2CowMax"
      },
      "source": [
        "Now, the standard normal distribution (with its variance equal to its standard deviation of one) would not be a great illustration of a key point. Instead, let's imagine we live in a town of 50,000 people and we know the height of everyone in this town. We will have 50,000 numbers that tell us everything about our population. We'll simulate these numbers now and put ourselves in one particular town, called 'town 47', where the population mean height is 172 cm and population standard deviation is 5 cm."
      ]
    },
    {
      "cell_type": "code",
      "execution_count": 11,
      "metadata": {
        "id": "8lBgAxucwMbQ"
      },
      "outputs": [],
      "source": [
        "seed(47)\n",
        "pop_heights = norm.rvs(172, 5, size=50000)"
      ]
    },
    {
      "cell_type": "code",
      "execution_count": 12,
      "metadata": {
        "colab": {
          "base_uri": "https://localhost:8080/",
          "height": 472
        },
        "id": "uiMMP0WawMbR",
        "outputId": "c456038e-bcce-4864-e896-b672638ab88d"
      },
      "outputs": [
        {
          "output_type": "display_data",
          "data": {
            "text/plain": [
              "<Figure size 640x480 with 1 Axes>"
            ],
            "image/png": "[encoded data removed]"
          },
          "metadata": {}
        }
      ],
      "source": [
        "_ = plt.hist(pop_heights, bins=30)\n",
        "_ = plt.xlabel('height (cm)')\n",
        "_ = plt.ylabel('number of people')\n",
        "_ = plt.title('Distribution of heights in entire town population')\n",
        "_ = plt.axvline(172, color='r')\n",
        "_ = plt.axvline(172+5, color='r', linestyle='--')\n",
        "_ = plt.axvline(172-5, color='r', linestyle='--')\n",
        "_ = plt.axvline(172+10, color='r', linestyle='-.')\n",
        "_ = plt.axvline(172-10, color='r', linestyle='-.')"
      ]
    },
    {
      "cell_type": "markdown",
      "metadata": {
        "id": "TshYiM5WwMbS"
      },
      "source": [
        "Now, 50,000 people is rather a lot to chase after with a tape measure. If all you want to know is the average height of the townsfolk, then can you just go out and measure a sample to get a pretty good estimate of the average height?"
      ]
    },
    {
      "cell_type": "code",
      "execution_count": 13,
      "metadata": {
        "id": "2JkD_quSwMbS"
      },
      "outputs": [],
      "source": [
        "def townsfolk_sampler(n):\n",
        "    return np.random.choice(pop_heights, n)"
      ]
    },
    {
      "cell_type": "markdown",
      "metadata": {
        "id": "BfA1AT1ywMbS"
      },
      "source": [
        "Let's say you go out one day and randomly sample 10 people to measure."
      ]
    },
    {
      "cell_type": "code",
      "execution_count": 14,
      "metadata": {
        "id": "BbUZHyA2wMbT"
      },
      "outputs": [],
      "source": [
        "seed(47)\n",
        "daily_sample1 = townsfolk_sampler(10)"
      ]
    },
    {
      "cell_type": "code",
      "execution_count": 15,
      "metadata": {
        "colab": {
          "base_uri": "https://localhost:8080/",
          "height": 472
        },
        "id": "JwM2HetowMbT",
        "outputId": "07ff842c-57cc-473d-b566-ac8ab4dc2882"
      },
      "outputs": [
        {
          "output_type": "display_data",
          "data": {
            "text/plain": [
              "<Figure size 640x480 with 1 Axes>"
            ],
            "image/png": "[encoded data removed]"
          },
          "metadata": {}
        }
      ],
      "source": [
        "_ = plt.hist(daily_sample1, bins=10)\n",
        "_ = plt.xlabel('height (cm)')\n",
        "_ = plt.ylabel('number of people')\n",
        "_ = plt.title('Distribution of heights in sample size 10')"
      ]
    },
    {
      "cell_type": "markdown",
      "metadata": {
        "id": "DhXIGvREwMbT"
      },
      "source": [
        "The sample distribution doesn't resemble what we take the population distribution to be. What do we get for the mean?"
      ]
    },
    {
      "cell_type": "code",
      "execution_count": 16,
      "metadata": {
        "colab": {
          "base_uri": "https://localhost:8080/"
        },
        "id": "xOPuoRhowMbU",
        "outputId": "0ccd31a0-8d65-4818-9bb0-41ffe5335278"
      },
      "outputs": [
        {
          "output_type": "execute_result",
          "data": {
            "text/plain": [
              "np.float64(173.47911444163503)"
            ]
          },
          "metadata": {},
          "execution_count": 16
        }
      ],
      "source": [
        "np.mean(daily_sample1)"
      ]
    },
    {
      "cell_type": "markdown",
      "metadata": {
        "id": "PhzLnMLywMbU"
      },
      "source": [
        "And if we went out and repeated this experiment?"
      ]
    },
    {
      "cell_type": "code",
      "execution_count": 17,
      "metadata": {
        "id": "o9jxJEvawMbU"
      },
      "outputs": [],
      "source": [
        "daily_sample2 = townsfolk_sampler(10)"
      ]
    },
    {
      "cell_type": "code",
      "execution_count": 18,
      "metadata": {
        "colab": {
          "base_uri": "https://localhost:8080/"
        },
        "id": "vsOR6NgvwMbU",
        "outputId": "5c82c748-5448-49b3-f1dc-342ea67bc39a"
      },
      "outputs": [
        {
          "output_type": "execute_result",
          "data": {
            "text/plain": [
              "np.float64(173.7317666636263)"
            ]
          },
          "metadata": {},
          "execution_count": 18
        }
      ],
      "source": [
        "np.mean(daily_sample2)"
      ]
    },
    {
      "cell_type": "markdown",
      "metadata": {
        "id": "E3MxNU-AwMbV"
      },
      "source": [
        "__Q8:__ Simulate performing this random trial every day for a year, calculating the mean of each daily sample of 10, and plot the resultant sampling distribution of the mean."
      ]
    },
    {
      "cell_type": "markdown",
      "metadata": {
        "id": "6OtedR-vwMbV"
      },
      "source": [
        "__A:__ We simulated 365 samples of size 10 from a standard normal distribution and plotted the means. The resulting sampling distribution is approximately normal and centered around 0. This matches the Central Limit Theorem, which predicts a normal shape with standard deviation\n",
        " ≈0.316. The red curve confirms this expected behavior.\n",
        "\n"
      ]
    },
    {
      "cell_type": "code",
      "execution_count": 22,
      "metadata": {
        "id": "RVaqw17dwMbV"
      },
      "outputs": [],
      "source": [
        "\n",
        "np.random.seed(47)\n"
      ]
    },
    {
      "cell_type": "code",
      "execution_count": 23,
      "metadata": {
        "id": "pYMwBdnIwMbV"
      },
      "outputs": [],
      "source": [
        "seed(47)\n",
        "# take your samples here\n",
        "\n",
        "# Simulate 365 daily samples, each of size 10\n",
        "daily_means = [np.mean(norm.rvs(loc=0, scale=1, size=10)) for _ in range(365)]\n",
        "\n",
        "\n"
      ]
    },
    {
      "cell_type": "code",
      "execution_count": 25,
      "metadata": {
        "colab": {
          "base_uri": "https://localhost:8080/",
          "height": 564
        },
        "id": "PeIre7DawMbV",
        "outputId": "dd5d9116-4a76-4183-cde0-19b77a8df46c"
      },
      "outputs": [
        {
          "output_type": "display_data",
          "data": {
            "text/plain": [
              "<Figure size 1000x600 with 1 Axes>"
            ],
            "image/png": "[encoded data removed]"
          },
          "metadata": {}
        }
      ],
      "source": [
        "plt.figure(figsize=(10, 6))\n",
        "plt.hist(daily_means, bins=30, density=True, edgecolor='black', alpha=0.7)\n",
        "plt.title(\"Sampling Distribution of the Mean (Sample Size = 10, 365 Trials)\")\n",
        "plt.xlabel(\"Sample Mean\")\n",
        "plt.ylabel(\"Density\")\n",
        "\n",
        "# Overlay theoretical normal curve\n",
        "x = np.linspace(min(daily_means), max(daily_means), 100)\n",
        "plt.plot(x, norm.pdf(x, loc=0, scale=1/np.sqrt(10)), 'r-', lw=2, label='Theoretical N(0, 1/√10)')\n",
        "plt.legend()\n",
        "plt.show()"
      ]
    },
    {
      "cell_type": "markdown",
      "metadata": {
        "id": "1NxAMn_MwMbW"
      },
      "source": [
        "The above is the distribution of the means of samples of size 10 taken from our population. The Central Limit Theorem tells us the expected mean of this distribution will be equal to the population mean, and standard deviation will be $\\sigma / \\sqrt n$, which, in this case, should be approximately 1.58."
      ]
    },
    {
      "cell_type": "markdown",
      "metadata": {
        "id": "CjZ3p09NwMbW"
      },
      "source": [
        "__Q9:__ Verify the above results from the CLT."
      ]
    },
    {
      "cell_type": "markdown",
      "metadata": {
        "id": "l0RIBtTvwMbW"
      },
      "source": [
        "__A:__"
      ]
    },
    {
      "cell_type": "code",
      "execution_count": 26,
      "metadata": {
        "id": "FGsZ-r2IwMbW"
      },
      "outputs": [],
      "source": [
        "mean_of_means = np.mean(daily_means)\n",
        "std_of_means = np.std(daily_means)"
      ]
    },
    {
      "cell_type": "code",
      "execution_count": 27,
      "metadata": {
        "colab": {
          "base_uri": "https://localhost:8080/"
        },
        "id": "L8zyyItPwMbW",
        "outputId": "dba35099-4828-4968-8fa5-1202346ed425"
      },
      "outputs": [
        {
          "output_type": "stream",
          "name": "stdout",
          "text": [
            "Sample Mean of Daily Means: -0.008959585556102153\n",
            "Sample Standard Deviation of Daily Means: 0.3175684331212265\n",
            "Theoretical Standard Error (1/sqrt(10)): 0.31622776601683794\n"
          ]
        }
      ],
      "source": [
        "theoretical_se = 1 / np.sqrt(10)\n",
        "\n",
        "# Print results\n",
        "print(\"Sample Mean of Daily Means:\", mean_of_means)\n",
        "print(\"Sample Standard Deviation of Daily Means:\", std_of_means)\n",
        "print(\"Theoretical Standard Error (1/sqrt(10)):\", theoretical_se)"
      ]
    },
    {
      "cell_type": "markdown",
      "metadata": {
        "id": "EyYCE00GwMbX"
      },
      "source": [
        "Remember, in this instance, we knew our population parameters, that the average height really is 172 cm and the standard deviation is 5 cm, and we see some of our daily estimates of the population mean were as low as around 168 and some as high as 176."
      ]
    },
    {
      "cell_type": "markdown",
      "metadata": {
        "id": "p90FAdBTwMbX"
      },
      "source": [
        "__Q10:__ Repeat the above year's worth of samples but for a sample size of 50 (perhaps you had a bigger budget for conducting surveys that year)! Would you expect your distribution of sample means to be wider (more variable) or narrower (more consistent)? Compare your resultant summary statistics to those predicted by the CLT."
      ]
    },
    {
      "cell_type": "markdown",
      "metadata": {
        "id": "ZECTg_rVwMbX"
      },
      "source": [
        "__A:__  We repeated the simulation using samples of size 50. The mean of the 365 sample means remained close to 0, but the standard deviation decreased to approximately 0.141, which is close to the theoretical standard error of\n",
        " ≈0.1414. This confirms the Central Limit Theorem and shows that increasing the sample size results in a narrower and more consistent distribution of sample means."
      ]
    },
    {
      "cell_type": "code",
      "execution_count": 28,
      "metadata": {
        "colab": {
          "base_uri": "https://localhost:8080/"
        },
        "id": "adQLCKO1wMbX",
        "outputId": "925b7ef2-897c-4068-847d-13320285d15e"
      },
      "outputs": [
        {
          "output_type": "stream",
          "name": "stdout",
          "text": [
            "Sample Mean (n=50): 0.0017704823133855533\n",
            "Sample Std Dev of Means (n=50): 0.15168100475500867\n",
            "Theoretical Std Error (1/sqrt(50)): 0.1414213562373095\n"
          ]
        }
      ],
      "source": [
        "seed(47)\n",
        "# calculate daily means from the larger sample size here\n",
        "daily_means_50 = [np.mean(norm.rvs(loc=0, scale=1, size=50)) for _ in range(365)]\n",
        "\n",
        "# Calculate sample mean and std deviation\n",
        "mean_50 = np.mean(daily_means_50)\n",
        "std_50 = np.std(daily_means_50)\n",
        "\n",
        "# Theoretical standard error\n",
        "theoretical_se_50 = 1 / np.sqrt(50)\n",
        "\n",
        "# Print results\n",
        "print(\"Sample Mean (n=50):\", mean_50)\n",
        "print(\"Sample Std Dev of Means (n=50):\", std_50)\n",
        "print(\"Theoretical Std Error (1/sqrt(50)):\", theoretical_se_50)"
      ]
    },
    {
      "cell_type": "code",
      "execution_count": 29,
      "metadata": {
        "colab": {
          "base_uri": "https://localhost:8080/",
          "height": 564
        },
        "id": "hbeeJMmgwMbX",
        "outputId": "7b1e555b-537f-41db-a2e3-fd5237d8da83"
      },
      "outputs": [
        {
          "output_type": "display_data",
          "data": {
            "text/plain": [
              "<Figure size 1000x600 with 1 Axes>"
            ],
            "image/png": "[encoded data removed]"
          },
          "metadata": {}
        }
      ],
      "source": [
        "plt.figure(figsize=(10, 6))\n",
        "plt.hist(daily_means_50, bins=30, density=True, edgecolor='black', alpha=0.7)\n",
        "x = np.linspace(min(daily_means_50), max(daily_means_50), 100)\n",
        "plt.plot(x, norm.pdf(x, loc=0, scale=theoretical_se_50), 'r-', lw=2, label='Theoretical N(0, 1/√50)')\n",
        "plt.title(\"Sampling Distribution of the Mean (Sample Size = 50)\")\n",
        "plt.xlabel(\"Sample Mean\")\n",
        "plt.ylabel(\"Density\")\n",
        "plt.legend()\n",
        "plt.show()"
      ]
    },
    {
      "cell_type": "markdown",
      "metadata": {
        "id": "sjpiTlcpwMbX"
      },
      "source": [
        "What we've seen so far, then, is that we can estimate population parameters from a sample from the population, and that samples have their own distributions. Furthermore, the larger the sample size, the narrower are those sampling distributions."
      ]
    },
    {
      "cell_type": "markdown",
      "metadata": {
        "id": "3vbW7THTwMbY"
      },
      "source": [
        "### Normally testing time!"
      ]
    },
    {
      "cell_type": "markdown",
      "metadata": {
        "id": "Nz7L6_FdwMbY"
      },
      "source": [
        "All of the above is well and good. We've been sampling from a population we know is normally distributed, we've come to understand when to use $n$ and when to use $n-1$ in the denominator to calculate the spread of a distribution, and we've  seen the Central Limit Theorem in action for a sampling distribution. All seems very well behaved in Frequentist land. But, well, why should we really care?"
      ]
    },
    {
      "cell_type": "markdown",
      "metadata": {
        "id": "kcoP3gKawMbY"
      },
      "source": [
        "Remember, we rarely (if ever) actually know our population parameters but we still have to estimate them somehow. If we want to make inferences to conclusions like \"this observation is unusual\" or \"my population mean has changed\" then we need to have some idea of what the underlying distribution is so we can calculate relevant probabilities. In frequentist inference, we use the formulae above to deduce these population parameters. Take a moment in the next part of this assignment to refresh your understanding of how these probabilities work."
      ]
    },
    {
      "cell_type": "markdown",
      "metadata": {
        "id": "J3JJb05kwMbY"
      },
      "source": [
        "Recall some basic properties of the standard normal distribution, such as that about 68% of observations are within plus or minus 1 standard deviation of the mean. Check out the precise definition of a normal distribution on p. 394 of *AoS*.\n",
        "\n",
        "__Q11:__ Using this fact, calculate the probability of observing the value 1 or less in a single observation from the standard normal distribution. Hint: you may find it helpful to sketch the standard normal distribution (the familiar bell shape) and mark the number of standard deviations from the mean on the x-axis and shade the regions of the curve that contain certain percentages of the population."
      ]
    },
    {
      "cell_type": "markdown",
      "metadata": {
        "id": "IQDKkM4ZwMbY"
      },
      "source": [
        "__A:__  Using the cumulative distribution function (CDF) of the standard normal distribution, we find that the probability of observing a value less than or equal to 1 is approximately 0.8413. This means that about 84.13% of observations lie to the left of 1, and thus, values of 1 or less are quite common in a standard normal distribution. This aligns with the known fact that roughly 68% of values lie within ±1 standard deviation, and values between -∞ and 1 capture more than two-thirds of the distribution."
      ]
    },
    {
      "cell_type": "markdown",
      "metadata": {
        "id": "AtIXtHzSwMbZ"
      },
      "source": [
        "Calculating this probability involved calculating the area under the curve from the value of 1 and below. To put it in mathematical terms, we need to *integrate* the probability density function. We could just add together the known areas of chunks (from -Inf to 0 and then 0 to $+\\sigma$ in the example above). One way to do this is to look up tables (literally). Fortunately, scipy has this functionality built in with the cdf() function."
      ]
    },
    {
      "cell_type": "markdown",
      "metadata": {
        "id": "BxfujZ94wMbZ"
      },
      "source": [
        "__Q12:__ Use the cdf() function to answer the question above again and verify you get the same answer."
      ]
    },
    {
      "cell_type": "markdown",
      "metadata": {
        "id": "14XicPowwMbZ"
      },
      "source": [
        "__A:__  Using the cdf() function confirms our previous result: the probability of observing a value ≤ 1 in a standard normal distribution is approximately 0.8413. This verifies the calculation and illustrates how the cumulative distribution function is used in frequentist inference to compute probabilities for normally distributed data."
      ]
    },
    {
      "cell_type": "code",
      "execution_count": 30,
      "metadata": {
        "colab": {
          "base_uri": "https://localhost:8080/"
        },
        "id": "TlL3fRbUwMbZ",
        "outputId": "de9b8655-1415-4775-e53e-e44f5d95d2d8"
      },
      "outputs": [
        {
          "output_type": "stream",
          "name": "stdout",
          "text": [
            "Using cdf(): P(X ≤ 1) = 0.8413447460685429\n"
          ]
        }
      ],
      "source": [
        "prob_cdf = norm.cdf(1)\n",
        "\n",
        "print(\"Using cdf(): P(X ≤ 1) =\", prob_cdf)"
      ]
    },
    {
      "cell_type": "markdown",
      "metadata": {
        "id": "ycA4R3EDwMbZ"
      },
      "source": [
        "__Q13:__ Using our knowledge of the population parameters for our townsfolks' heights, what is the probability of selecting one person at random and their height being 177 cm or less? Calculate this using both of the approaches given above."
      ]
    },
    {
      "cell_type": "markdown",
      "metadata": {
        "id": "XTO9J39YwMbZ"
      },
      "source": [
        "\n",
        "\n",
        "__A:__  we find that the probability of selecting one person with a height of 177 cm or less is approximately 0.8413. This confirms that 84.13% of people in the population are expected to be 177 cm or shorter."
      ]
    },
    {
      "cell_type": "code",
      "execution_count": 31,
      "metadata": {
        "colab": {
          "base_uri": "https://localhost:8080/"
        },
        "id": "9VBLa8lrwMba",
        "outputId": "faa81745-bbab-4d56-8e3d-51545d82ac11"
      },
      "outputs": [
        {
          "output_type": "stream",
          "name": "stdout",
          "text": [
            "Approach 1 - Using z-score: P(X ≤ 177) = 0.8413447460685429\n"
          ]
        }
      ],
      "source": [
        "z = (177 - 172) / 5\n",
        "prob_z = norm.cdf(z)\n",
        "print(\"Approach 1 - Using z-score: P(X ≤ 177) =\", prob_z)"
      ]
    },
    {
      "cell_type": "markdown",
      "metadata": {
        "id": "kRHlL97NwMba"
      },
      "source": [
        "__Q14:__ Turning this question around — suppose we randomly pick one person and measure their height and find they are 2.00 m tall. How surprised should we be at this result, given what we know about the population distribution? In other words, how likely would it be to obtain a value at least as extreme as this? Express this as a probability."
      ]
    },
    {
      "cell_type": "markdown",
      "metadata": {
        "id": "znIlaRt6wMba"
      },
      "source": [
        "__A:__ Given the population mean of 172 cm and a standard deviation of 5 cm, the probability of observing someone who is 200 cm or taller is approximately 1.07 × 10⁻⁸. This means such a height is extremely rare and would be considered highly unusual in this population. Seeing a value this extreme would strongly suggest that the person is an outlier or possibly from a different population distribution"
      ]
    },
    {
      "cell_type": "code",
      "execution_count": 32,
      "metadata": {
        "colab": {
          "base_uri": "https://localhost:8080/"
        },
        "id": "eYzzCi0AwMba",
        "outputId": "fc96e78e-d88e-4f13-b189-ea21c5918b87"
      },
      "outputs": [
        {
          "output_type": "stream",
          "name": "stdout",
          "text": [
            "P(X ≥ 200) using 1 - cdf: 1.0717590259723409e-08\n",
            "P(X ≥ 200) using sf(): 1.0717590258310887e-08\n"
          ]
        }
      ],
      "source": [
        "z = (200 - 172) / 5\n",
        "prob = 1 - norm.cdf(z)\n",
        "\n",
        "# Alternatively, directly using population mean and std\n",
        "prob_direct = norm.sf(200, loc=172, scale=5)\n",
        "\n",
        "print(\"P(X ≥ 200) using 1 - cdf:\", prob)\n",
        "print(\"P(X ≥ 200) using sf():\", prob_direct)"
      ]
    },
    {
      "cell_type": "markdown",
      "metadata": {
        "id": "DUf_olf4wMbb"
      },
      "source": [
        "What we've just done is calculate the ***p-value*** of the observation of someone 2.00m tall (review *p*-values if you need to on p. 399 of *AoS*). We could calculate this probability by virtue of knowing the population parameters. We were then able to use the known properties of the relevant normal distribution to calculate the probability of observing a value at least as extreme as our test value."
      ]
    },
    {
      "cell_type": "markdown",
      "metadata": {
        "id": "02U_qayswMbb"
      },
      "source": [
        "We're about to come to a pinch, though. We've said a couple of times that we rarely, if ever, know the true population parameters; we have to estimate them from our sample and we cannot even begin to estimate the standard deviation from a single observation.\n",
        "\n",
        "This is very true and usually we have sample sizes larger than one. This means we can calculate the mean of the sample as our best estimate of the population mean and the standard deviation as our best estimate of the population standard deviation.\n",
        "\n",
        "In other words, we are now coming to deal with the sampling distributions we mentioned above as we are generally concerned with the properties of the sample means we obtain.\n",
        "\n",
        "Above, we highlighted one result from the CLT, whereby the sampling distribution (of the mean) becomes narrower and narrower with the square root of the sample size. We remind ourselves that another result from the CLT is that _even if the underlying population distribution is not normal, the sampling distribution will tend to become normal with sufficiently large sample size_. (**Check out p. 199 of AoS if you need to revise this**). This is the key driver for us 'requiring' a certain sample size, for example you may frequently see a minimum sample size of 30 stated in many places. In reality this is simply a rule of thumb; if the underlying distribution is approximately normal then your sampling distribution will already be pretty normal, but if the underlying distribution is heavily skewed then you'd want to increase your sample size."
      ]
    },
    {
      "cell_type": "markdown",
      "metadata": {
        "id": "pvyECemjwMbb"
      },
      "source": [
        "__Q15:__ Let's now start from the position of knowing nothing about the heights of people in our town.\n",
        "* Use the random seed of 47, to randomly sample the heights of 50 townsfolk\n",
        "* Estimate the population mean using np.mean\n",
        "* Estimate the population standard deviation using np.std (remember which denominator to use!)\n",
        "* Calculate the (95%) [margin of error](https://www.statisticshowto.datasciencecentral.com/probability-and-statistics/hypothesis-testing/margin-of-error/#WhatMofE) (use the exact critial z value to 2 decimal places - [look this up](https://www.statisticshowto.datasciencecentral.com/probability-and-statistics/find-critical-values/) or use norm.ppf()) Recall that the ***margin of error*** is mentioned on p. 189 of the *AoS* and discussed in depth in that chapter).\n",
        "* Calculate the 95% Confidence Interval of the mean (***confidence intervals*** are defined on p. 385 of *AoS*)\n",
        "* Does this interval include the true population mean?"
      ]
    },
    {
      "cell_type": "markdown",
      "metadata": {
        "id": "jM0vtnz8wMbb"
      },
      "source": [
        "__A:__Using a random sample of 50 townsfolk with seed 47, we estimated the population mean height to be 171.094 cm and the sample standard deviation as 4.868 cm. Using a z-critical value of 1.96 for a 95% confidence level, we calculated a margin of error of 1.349 cm, resulting in a 95% confidence interval of (169.745 cm, 172.444 cm). Since the true population mean of 172 cm lies within this interval, we can say that our estimate is consistent with the true mean."
      ]
    },
    {
      "cell_type": "code",
      "execution_count": 33,
      "metadata": {
        "id": "reZFjjVWwMbb"
      },
      "outputs": [],
      "source": [
        "seed(47)\n",
        "# take your sample now\n",
        "np.random.seed(47)\n",
        "sample = np.random.normal(loc=172, scale=5, size=50)"
      ]
    },
    {
      "cell_type": "code",
      "execution_count": 34,
      "metadata": {
        "id": "Fwb1LteQwMbb"
      },
      "outputs": [],
      "source": [
        "# Step 2: Estimate the population mean using the sample\n",
        "sample_mean = np.mean(sample)\n",
        "\n",
        "# Step 3: Estimate the sample standard deviation (use Bessel's correction)\n",
        "sample_std = np.std(sample, ddof=1)\n"
      ]
    },
    {
      "cell_type": "code",
      "execution_count": 35,
      "metadata": {
        "id": "_ROyEJ1zwMbc"
      },
      "outputs": [],
      "source": [
        "# Step 4: Calculate the margin of error (95% confidence level)\n",
        "z_critical = norm.ppf(0.975)  # z-value for 95% CI\n",
        "margin_of_error = z_critical * (sample_std / np.sqrt(len(sample)))\n",
        "\n",
        "# Step 5: Calculate the confidence interval\n",
        "ci_lower = sample_mean - margin_of_error\n",
        "ci_upper = sample_mean + margin_of_error\n"
      ]
    },
    {
      "cell_type": "code",
      "execution_count": 36,
      "metadata": {
        "colab": {
          "base_uri": "https://localhost:8080/"
        },
        "id": "tqygYnbvwMbc",
        "outputId": "b1ea7ff8-8397-4f77-cf41-d315e7cacc33"
      },
      "outputs": [
        {
          "output_type": "stream",
          "name": "stdout",
          "text": [
            "Sample Mean: 171.094\n",
            "Sample Std Dev: 4.868\n",
            "Z-critical value: 1.96\n",
            "Margin of Error: 1.349\n",
            "95% Confidence Interval: (169.745, 172.444)\n",
            "Does this interval include the true mean (172 cm)? True\n"
          ]
        }
      ],
      "source": [
        "# Step 6: Check if the true population mean is within the interval\n",
        "true_mean = 172\n",
        "includes_true_mean = ci_lower <= true_mean <= ci_upper\n",
        "\n",
        "# Output\n",
        "print(\"Sample Mean:\", round(sample_mean, 3))\n",
        "print(\"Sample Std Dev:\", round(sample_std, 3))\n",
        "print(\"Z-critical value:\", round(z_critical, 2))\n",
        "print(\"Margin of Error:\", round(margin_of_error, 3))\n",
        "print(f\"95% Confidence Interval: ({round(ci_lower, 3)}, {round(ci_upper, 3)})\")\n",
        "print(\"Does this interval include the true mean (172 cm)?\", includes_true_mean)\n"
      ]
    },
    {
      "cell_type": "markdown",
      "metadata": {
        "id": "R7xNYuVnwMbc"
      },
      "source": [
        "__Q16:__ Above, we calculated the confidence interval using the critical z value. What is the problem with this? What requirement, or requirements, are we (strictly) failing?"
      ]
    },
    {
      "cell_type": "markdown",
      "metadata": {
        "id": "i3o34YQRwMbc"
      },
      "source": [
        "__A:__ The problem with using the z-critical value is that it assumes we know the population standard deviation, which we don’t. In Q15, we estimated it from the sample. When the population standard deviation is unknown, we are strictly required to use the t-distribution, not the z-distribution. This ensures a more accurate confidence interval, especially with smaller sample sizes."
      ]
    },
    {
      "cell_type": "markdown",
      "metadata": {
        "id": "49xwSa0GwMbc"
      },
      "source": [
        "__Q17:__ Calculate the 95% confidence interval for the mean using the _t_ distribution. Is this wider or narrower than that based on the normal distribution above? If you're unsure, you may find this [resource](https://www.statisticshowto.datasciencecentral.com/probability-and-statistics/confidence-interval/) useful. For calculating the critical value, remember how you could calculate this for the normal distribution using norm.ppf()."
      ]
    },
    {
      "cell_type": "markdown",
      "metadata": {
        "id": "LPB0shtOwMbc"
      },
      "source": [
        "__A:__ Using the t-distribution with 49 degrees of freedom, we get a t-critical value of approximately 2.009, slightly higher than the z-value of 1.96. This results in a margin of error of about 1.381, producing a 95% confidence interval of (169.713, 172.475). This interval is slightly wider than the one based on the normal distribution, reflecting the increased uncertainty when estimating the standard deviation from the sample."
      ]
    },
    {
      "cell_type": "code",
      "execution_count": 38,
      "metadata": {
        "id": "plmjBTK7wMbd"
      },
      "outputs": [],
      "source": [
        "# Sample size and degrees of freedom\n",
        "n = len(sample)\n",
        "df = n - 1\n",
        "\n",
        "# 95% confidence level → two-tailed → 0.975\n",
        "t_critical = t.ppf(0.975, df)"
      ]
    },
    {
      "cell_type": "code",
      "execution_count": 39,
      "metadata": {
        "id": "aoecA5BOwMbd"
      },
      "outputs": [],
      "source": [
        "# Margin of error using t-distribution\n",
        "margin_of_error_t = t_critical * (sample_std / np.sqrt(n))\n"
      ]
    },
    {
      "cell_type": "code",
      "execution_count": 40,
      "metadata": {
        "colab": {
          "base_uri": "https://localhost:8080/"
        },
        "id": "0jYSUZ3kwMbd",
        "outputId": "e26d51c0-9dd4-4ea2-b1f7-50fd336568c5"
      },
      "outputs": [
        {
          "output_type": "stream",
          "name": "stdout",
          "text": [
            "T-critical value: 2.01\n",
            "Margin of Error (t): 1.384\n",
            "95% Confidence Interval using t-distribution: (169.711, 172.478)\n"
          ]
        }
      ],
      "source": [
        "# Confidence interval using t-distribution\n",
        "ci_lower_t = sample_mean - margin_of_error_t\n",
        "ci_upper_t = sample_mean + margin_of_error_t\n",
        "\n",
        "# Output\n",
        "print(\"T-critical value:\", round(t_critical, 3))\n",
        "print(\"Margin of Error (t):\", round(margin_of_error_t, 3))\n",
        "print(\"95% Confidence Interval using t-distribution: ({:.3f}, {:.3f})\".format(ci_lower_t, ci_upper_t))\n"
      ]
    },
    {
      "cell_type": "markdown",
      "metadata": {
        "id": "O3CaDub0wMbd"
      },
      "source": [
        "This is slightly wider than the previous confidence interval. This reflects the greater uncertainty given that we are estimating population parameters from a sample."
      ]
    },
    {
      "cell_type": "markdown",
      "metadata": {
        "id": "nUJh032uwMbd"
      },
      "source": [
        "## 4. Learning outcomes"
      ]
    },
    {
      "cell_type": "markdown",
      "metadata": {
        "id": "ODDhh78mwMbd"
      },
      "source": [
        "Having completed this project notebook, you now have hands-on experience:\n",
        "* sampling and calculating probabilities from a normal distribution\n",
        "* identifying the correct way to estimate the standard deviation of a population (the population parameter) from a sample\n",
        "* with sampling distribution and now know how the Central Limit Theorem applies\n",
        "* with how to calculate critical values and confidence intervals"
      ]
    },
    {
      "cell_type": "code",
      "execution_count": 21,
      "metadata": {
        "id": "VzK4G0iZwMbd"
      },
      "outputs": [],
      "source": []
    }
  ],
  "metadata": {
    "kernelspec": {
      "display_name": "Python 3",
      "language": "python",
      "name": "python3"
    },
    "language_info": {
      "codemirror_mode": {
        "name": "ipython",
        "version": 3
      },
      "file_extension": ".py",
      "mimetype": "text/x-python",
      "name": "python",
      "nbconvert_exporter": "python",
      "pygments_lexer": "ipython3",
      "version": "3.7.3"
    },
    "colab": {
      "provenance": []
    }
  },
  "nbformat": 4,
  "nbformat_minor": 0
}