{
  "cells": [
    {
      "cell_type": "markdown",
      "metadata": {
        "id": "0YmwQ0UrdLZX"
      },
      "source": [
        "# Modeling\n",
        "\n",
        "#### Default Payments of Credit Card\n"
      ]
    },
    {
      "cell_type": "markdown",
      "metadata": {
        "id": "EXrWy7EedLZb"
      },
      "source": [
        "## Import Packages"
      ]
    },
    {
      "cell_type": "code",
      "execution_count": null,
      "metadata": {
        "id": "qH9c_xQ_dLZb"
      },
      "outputs": [],
      "source": [
        "import pandas as pd\n",
        "import numpy as np\n",
        "import matplotlib.pyplot as plt\n",
        "import seaborn as sns\n",
        "%matplotlib inline\n",
        "import warnings\n",
        "warnings.simplefilter(\"ignore\")\n",
        "from pprint import pprint\n",
        "import joblib\n",
        "import imblearn\n",
        "\n",
        "from sklearn.model_selection import KFold\n",
        "from sklearn.model_selection import RandomizedSearchCV\n",
        "from sklearn.model_selection import GridSearchCV\n",
        "from sklearn.model_selection import train_test_split\n",
        "from sklearn.model_selection import StratifiedShuffleSplit\n",
        "from sklearn.model_selection import cross_val_score\n",
        "from sklearn.model_selection import cross_validate\n",
        "\n",
        "from sklearn.preprocessing import StandardScaler\n",
        "from sklearn.pipeline import make_pipeline\n",
        "from sklearn.pipeline import Pipeline\n",
        "\n",
        "from sklearn import metrics\n",
        "from sklearn.metrics import roc_auc_score\n",
        "from sklearn.metrics import confusion_matrix\n",
        "\n",
        "from sklearn.metrics import ConfusionMatrixDisplay\n",
        "from sklearn.metrics import classification_report\n",
        "from sklearn.metrics import RocCurveDisplay\n",
        "from sklearn.metrics import precision_recall_curve\n",
        "from sklearn.metrics import PrecisionRecallDisplay\n",
        "\n",
        "from sklearn.linear_model import LogisticRegression\n",
        "from sklearn.ensemble import RandomForestClassifier\n",
        "import xgboost as xgb\n",
        "from xgboost import XGBClassifier"
      ]
    },
    {
      "cell_type": "markdown",
      "metadata": {
        "id": "TevwoCMtdLZd"
      },
      "source": [
        "## Load Data"
      ]
    },
    {
      "cell_type": "code",
      "execution_count": null,
      "metadata": {
        "colab": {
          "base_uri": "https://localhost:8080/"
        },
        "id": "a_c9kF4udLZd",
        "outputId": "7a68fee3-0c5e-4eba-95be-e7edfb96d0eb"
      },
      "outputs": [
        {
          "output_type": "execute_result",
          "data": {
            "text/plain": [
              "Index(['Unnamed: 0', 'ID', 'LIMIT_BAL', 'SEX', 'EDUCATION', 'MARRIAGE', 'AGE',\n",
              "       'PAY_1', 'PAY_2', 'PAY_3', 'PAY_4', 'PAY_5', 'PAY_6', 'BILL_AMT1',\n",
              "       'BILL_AMT2', 'BILL_AMT3', 'BILL_AMT4', 'BILL_AMT5', 'BILL_AMT6',\n",
              "       'PAY_AMT1', 'PAY_AMT2', 'PAY_AMT3', 'PAY_AMT4', 'PAY_AMT5', 'PAY_AMT6',\n",
              "       'DEFAULT_PAY'],\n",
              "      dtype='object')"
            ]
          },
          "metadata": {},
          "execution_count": 32
        }
      ],
      "source": [
        "data = pd.read_csv(\"/content/Credit Card Processed (2).csv\")\n",
        "data.columns"
      ]
    },
    {
      "cell_type": "code",
      "execution_count": null,
      "metadata": {
        "id": "PwvETL6fdLZe"
      },
      "outputs": [],
      "source": [
        "# Bin ‘AGE’ data to 6 groups\n",
        "bins= [21,30,40,50,60,70,80]\n",
        "labels = list(range(6))\n",
        "data['AGE'] = pd.cut(data['AGE'],bins=bins, labels=labels,right=False)\n",
        "\n",
        "# Covert categorical column into integer by extracting the code of the categories\n",
        "data.AGE = data.AGE.cat.codes"
      ]
    },
    {
      "cell_type": "code",
      "execution_count": null,
      "metadata": {
        "id": "EZyyeoi-dLZf"
      },
      "outputs": [],
      "source": [
        "# Define predictor variables and target variable\n",
        "X = data.drop(columns=['ID','DEFAULT_PAY'])\n",
        "y = data['DEFAULT_PAY']\n",
        "\n",
        "# Save all feature names as list\n",
        "feature_cols = X.columns.tolist()\n",
        "\n",
        "# Extract numerical columns and save as a list for rescaling\n",
        "X_num = X.drop(columns=['SEX', 'EDUCATION', 'MARRIAGE', 'AGE'])\n",
        "num_cols = X_num.columns.tolist()"
      ]
    },
    {
      "cell_type": "code",
      "execution_count": null,
      "metadata": {
        "colab": {
          "base_uri": "https://localhost:8080/",
          "height": 542
        },
        "id": "s0PhGqCgdLZf",
        "outputId": "ab5613ab-0c82-4850-e369-ed15346da91d"
      },
      "outputs": [
        {
          "output_type": "stream",
          "name": "stdout",
          "text": [
            "DEFAULT_PAY\n",
            "0    0.7788\n",
            "1    0.2212\n",
            "Name: proportion, dtype: float64\n"
          ]
        },
        {
          "output_type": "display_data",
          "data": {
            "text/plain": [
              "<Figure size 640x480 with 1 Axes>"
            ],
            "image/png": "[encoded data removed]"
          },
          "metadata": {}
        }
      ],
      "source": [
        "# Check target classes balancec\n",
        "cla_bal = data['DEFAULT_PAY'].value_counts(normalize=True)\n",
        "print(cla_bal)\n",
        "\n",
        "# Plot the classes\n",
        "cla_bal.plot(kind = 'bar')\n",
        "plt.title('Nondefault(0) and default(1) comparison',fontweight = \"bold\")\n",
        "plt.xlabel('Classes')\n",
        "plt.ylabel('Percentage')\n",
        "plt.show()"
      ]
    },
    {
      "cell_type": "markdown",
      "metadata": {
        "id": "2_VRfF5fdLZf"
      },
      "source": [
        "With typical default classification problems, we expect imbalanced classes as we know most people will not default. This dataset is also imbalanced, with 78% non-default vs. 22% default."
      ]
    },
    {
      "cell_type": "code",
      "execution_count": null,
      "metadata": {
        "id": "2SnsIrSGdLZf"
      },
      "outputs": [],
      "source": [
        "# Define function to split data with and without SMOTE\n",
        "\n",
        "def data_split(X, y, imbalance = False):\n",
        "    # split data\n",
        "    X_train, X_test, y_train, y_test = train_test_split(X, y, test_size=0.3,shuffle=True, stratify=y, random_state=42)\n",
        "\n",
        "    if imbalance:\n",
        "        # use SMOTE to over sample data\n",
        "        from imblearn.over_sampling import SMOTE\n",
        "        sm = SMOTE(random_state = 42)\n",
        "        X_train, y_train = sm.fit_resample(X_train, y_train.ravel())\n",
        "\n",
        "    return X_train, X_test, y_train, y_test"
      ]
    },
    {
      "cell_type": "code",
      "execution_count": null,
      "metadata": {
        "id": "iDYJccdXdLZg"
      },
      "outputs": [],
      "source": [
        "# Define function to rescale training data using StandardScaler\n",
        "\n",
        "def standard_scaler(X_train, X_test, numerical_cols):\n",
        "\n",
        "    # Make copies of dataset\n",
        "    X_train_std = X_train.copy()\n",
        "    X_test_std = X_test.copy()\n",
        "\n",
        "    # Apply standardization on numerical features only\n",
        "    for i in numerical_cols:\n",
        "        scl = StandardScaler().fit(X_train_std[[i]])     # fit on training data columns\n",
        "        X_train_std[i] = scl.transform(X_train_std[[i]]) # transform the training data columns\n",
        "        X_test_std[i] = scl.transform(X_test_std[[i]])   # transform the testing data columns\n",
        "\n",
        "    return X_train_std,X_test_std"
      ]
    },
    {
      "cell_type": "markdown",
      "metadata": {
        "id": "vawXtHyvdLZg"
      },
      "source": [
        "## Classification Predictive Modeling"
      ]
    },
    {
      "cell_type": "markdown",
      "metadata": {
        "id": "M49HW-gLdLZg"
      },
      "source": [
        "### 1. Logistic Regression"
      ]
    },
    {
      "cell_type": "code",
      "execution_count": null,
      "metadata": {
        "colab": {
          "base_uri": "https://localhost:8080/",
          "height": 112
        },
        "id": "85rNPaE_dLZg",
        "outputId": "d0535bdf-db5a-4945-db64-9460842943a4"
      },
      "outputs": [
        {
          "output_type": "execute_result",
          "data": {
            "text/plain": [
              "                 Model          SMOTE  ROC_AUC Score\n",
              "0  Logistic Regression  Without SMOTE       0.725672\n",
              "1  Logistic Regression     With SMOTE       0.797049"
            ],
            "text/html": [
              "\n",
              "  <div id=\"df-c7563175-86ba-483d-96dc-2403926912ce\" class=\"colab-df-container\">\n",
              "    <div>\n",
              "<style scoped>\n",
              "    .dataframe tbody tr th:only-of-type {\n",
              "        vertical-align: middle;\n",
              "    }\n",
              "\n",
              "    .dataframe tbody tr th {\n",
              "        vertical-align: top;\n",
              "    }\n",
              "\n",
              "    .dataframe thead th {\n",
              "        text-align: right;\n",
              "    }\n",
              "</style>\n",
              "<table border=\"1\" class=\"dataframe\">\n",
              "  <thead>\n",
              "    <tr style=\"text-align: right;\">\n",
              "      <th></th>\n",
              "      <th>Model</th>\n",
              "      <th>SMOTE</th>\n",
              "      <th>ROC_AUC Score</th>\n",
              "    </tr>\n",
              "  </thead>\n",
              "  <tbody>\n",
              "    <tr>\n",
              "      <th>0</th>\n",
              "      <td>Logistic Regression</td>\n",
              "      <td>Without SMOTE</td>\n",
              "      <td>0.725672</td>\n",
              "    </tr>\n",
              "    <tr>\n",
              "      <th>1</th>\n",
              "      <td>Logistic Regression</td>\n",
              "      <td>With SMOTE</td>\n",
              "      <td>0.797049</td>\n",
              "    </tr>\n",
              "  </tbody>\n",
              "</table>\n",
              "</div>\n",
              "    <div class=\"colab-df-buttons\">\n",
              "\n",
              "  <div class=\"colab-df-container\">\n",
              "    <button class=\"colab-df-convert\" onclick=\"convertToInteractive('df-c7563175-86ba-483d-96dc-2403926912ce')\"\n",
              "            title=\"Convert this dataframe to an interactive table.\"\n",
              "            style=\"display:none;\">\n",
              "\n",
              "  <svg xmlns=\"http://www.w3.org/2000/svg\" height=\"24px\" viewBox=\"0 -960 960 960\">\n",
              "    <path d=\"M120-120v-720h720v720H120Zm60-500h600v-160H180v160Zm220 220h160v-160H400v160Zm0 220h160v-160H400v160ZM180-400h160v-160H180v160Zm440 0h160v-160H620v160ZM180-180h160v-160H180v160Zm440 0h160v-160H620v160Z\"/>\n",
              "  </svg>\n",
              "    </button>\n",
              "\n",
              "  <style>\n",
              "    .colab-df-container {\n",
              "      display:flex;\n",
              "      gap: 12px;\n",
              "    }\n",
              "\n",
              "    .colab-df-convert {\n",
              "      background-color: #E8F0FE;\n",
              "      border: none;\n",
              "      border-radius: 50%;\n",
              "      cursor: pointer;\n",
              "      display: none;\n",
              "      fill: #1967D2;\n",
              "      height: 32px;\n",
              "      padding: 0 0 0 0;\n",
              "      width: 32px;\n",
              "    }\n",
              "\n",
              "    .colab-df-convert:hover {\n",
              "      background-color: #E2EBFA;\n",
              "      box-shadow: 0px 1px 2px rgba(60, 64, 67, 0.3), 0px 1px 3px 1px rgba(60, 64, 67, 0.15);\n",
              "      fill: #174EA6;\n",
              "    }\n",
              "\n",
              "    .colab-df-buttons div {\n",
              "      margin-bottom: 4px;\n",
              "    }\n",
              "\n",
              "    [theme=dark] .colab-df-convert {\n",
              "      background-color: #3B4455;\n",
              "      fill: #D2E3FC;\n",
              "    }\n",
              "\n",
              "    [theme=dark] .colab-df-convert:hover {\n",
              "      background-color: #434B5C;\n",
              "      box-shadow: 0px 1px 3px 1px rgba(0, 0, 0, 0.15);\n",
              "      filter: drop-shadow(0px 1px 2px rgba(0, 0, 0, 0.3));\n",
              "      fill: #FFFFFF;\n",
              "    }\n",
              "  </style>\n",
              "\n",
              "    <script>\n",
              "      const buttonEl =\n",
              "        document.querySelector('#df-c7563175-86ba-483d-96dc-2403926912ce button.colab-df-convert');\n",
              "      buttonEl.style.display =\n",
              "        google.colab.kernel.accessAllowed ? 'block' : 'none';\n",
              "\n",
              "      async function convertToInteractive(key) {\n",
              "        const element = document.querySelector('#df-c7563175-86ba-483d-96dc-2403926912ce');\n",
              "        const dataTable =\n",
              "          await google.colab.kernel.invokeFunction('convertToInteractive',\n",
              "                                                    [key], {});\n",
              "        if (!dataTable) return;\n",
              "\n",
              "        const docLinkHtml = 'Like what you see? Visit the ' +\n",
              "          '<a target=\"_blank\" href=https://colab.research.google.com/notebooks/data_table.ipynb>data table notebook</a>'\n",
              "          + ' to learn more about interactive tables.';\n",
              "        element.innerHTML = '';\n",
              "        dataTable['output_type'] = 'display_data';\n",
              "        await google.colab.output.renderOutput(dataTable, element);\n",
              "        const docLink = document.createElement('div');\n",
              "        docLink.innerHTML = docLinkHtml;\n",
              "        element.appendChild(docLink);\n",
              "      }\n",
              "    </script>\n",
              "  </div>\n",
              "\n",
              "\n",
              "    <div id=\"df-0daa1824-7805-46e2-b77d-0541fb6fc313\">\n",
              "      <button class=\"colab-df-quickchart\" onclick=\"quickchart('df-0daa1824-7805-46e2-b77d-0541fb6fc313')\"\n",
              "                title=\"Suggest charts\"\n",
              "                style=\"display:none;\">\n",
              "\n",
              "<svg xmlns=\"http://www.w3.org/2000/svg\" height=\"24px\"viewBox=\"0 0 24 24\"\n",
              "     width=\"24px\">\n",
              "    <g>\n",
              "        <path d=\"M19 3H5c-1.1 0-2 .9-2 2v14c0 1.1.9 2 2 2h14c1.1 0 2-.9 2-2V5c0-1.1-.9-2-2-2zM9 17H7v-7h2v7zm4 0h-2V7h2v10zm4 0h-2v-4h2v4z\"/>\n",
              "    </g>\n",
              "</svg>\n",
              "      </button>\n",
              "\n",
              "<style>\n",
              "  .colab-df-quickchart {\n",
              "      --bg-color: #E8F0FE;\n",
              "      --fill-color: #1967D2;\n",
              "      --hover-bg-color: #E2EBFA;\n",
              "      --hover-fill-color: #174EA6;\n",
              "      --disabled-fill-color: #AAA;\n",
              "      --disabled-bg-color: #DDD;\n",
              "  }\n",
              "\n",
              "  [theme=dark] .colab-df-quickchart {\n",
              "      --bg-color: #3B4455;\n",
              "      --fill-color: #D2E3FC;\n",
              "      --hover-bg-color: #434B5C;\n",
              "      --hover-fill-color: #FFFFFF;\n",
              "      --disabled-bg-color: #3B4455;\n",
              "      --disabled-fill-color: #666;\n",
              "  }\n",
              "\n",
              "  .colab-df-quickchart {\n",
              "    background-color: var(--bg-color);\n",
              "    border: none;\n",
              "    border-radius: 50%;\n",
              "    cursor: pointer;\n",
              "    display: none;\n",
              "    fill: var(--fill-color);\n",
              "    height: 32px;\n",
              "    padding: 0;\n",
              "    width: 32px;\n",
              "  }\n",
              "\n",
              "  .colab-df-quickchart:hover {\n",
              "    background-color: var(--hover-bg-color);\n",
              "    box-shadow: 0 1px 2px rgba(60, 64, 67, 0.3), 0 1px 3px 1px rgba(60, 64, 67, 0.15);\n",
              "    fill: var(--button-hover-fill-color);\n",
              "  }\n",
              "\n",
              "  .colab-df-quickchart-complete:disabled,\n",
              "  .colab-df-quickchart-complete:disabled:hover {\n",
              "    background-color: var(--disabled-bg-color);\n",
              "    fill: var(--disabled-fill-color);\n",
              "    box-shadow: none;\n",
              "  }\n",
              "\n",
              "  .colab-df-spinner {\n",
              "    border: 2px solid var(--fill-color);\n",
              "    border-color: transparent;\n",
              "    border-bottom-color: var(--fill-color);\n",
              "    animation:\n",
              "      spin 1s steps(1) infinite;\n",
              "  }\n",
              "\n",
              "  @keyframes spin {\n",
              "    0% {\n",
              "      border-color: transparent;\n",
              "      border-bottom-color: var(--fill-color);\n",
              "      border-left-color: var(--fill-color);\n",
              "    }\n",
              "    20% {\n",
              "      border-color: transparent;\n",
              "      border-left-color: var(--fill-color);\n",
              "      border-top-color: var(--fill-color);\n",
              "    }\n",
              "    30% {\n",
              "      border-color: transparent;\n",
              "      border-left-color: var(--fill-color);\n",
              "      border-top-color: var(--fill-color);\n",
              "      border-right-color: var(--fill-color);\n",
              "    }\n",
              "    40% {\n",
              "      border-color: transparent;\n",
              "      border-right-color: var(--fill-color);\n",
              "      border-top-color: var(--fill-color);\n",
              "    }\n",
              "    60% {\n",
              "      border-color: transparent;\n",
              "      border-right-color: var(--fill-color);\n",
              "    }\n",
              "    80% {\n",
              "      border-color: transparent;\n",
              "      border-right-color: var(--fill-color);\n",
              "      border-bottom-color: var(--fill-color);\n",
              "    }\n",
              "    90% {\n",
              "      border-color: transparent;\n",
              "      border-bottom-color: var(--fill-color);\n",
              "    }\n",
              "  }\n",
              "</style>\n",
              "\n",
              "      <script>\n",
              "        async function quickchart(key) {\n",
              "          const quickchartButtonEl =\n",
              "            document.querySelector('#' + key + ' button');\n",
              "          quickchartButtonEl.disabled = true;  // To prevent multiple clicks.\n",
              "          quickchartButtonEl.classList.add('colab-df-spinner');\n",
              "          try {\n",
              "            const charts = await google.colab.kernel.invokeFunction(\n",
              "                'suggestCharts', [key], {});\n",
              "          } catch (error) {\n",
              "            console.error('Error during call to suggestCharts:', error);\n",
              "          }\n",
              "          quickchartButtonEl.classList.remove('colab-df-spinner');\n",
              "          quickchartButtonEl.classList.add('colab-df-quickchart-complete');\n",
              "        }\n",
              "        (() => {\n",
              "          let quickchartButtonEl =\n",
              "            document.querySelector('#df-0daa1824-7805-46e2-b77d-0541fb6fc313 button');\n",
              "          quickchartButtonEl.style.display =\n",
              "            google.colab.kernel.accessAllowed ? 'block' : 'none';\n",
              "        })();\n",
              "      </script>\n",
              "    </div>\n",
              "\n",
              "    </div>\n",
              "  </div>\n"
            ],
            "application/vnd.google.colaboratory.intrinsic+json": {
              "type": "dataframe",
              "summary": "{\n  \"name\": \"pd\",\n  \"rows\": 2,\n  \"fields\": [\n    {\n      \"column\": \"Model\",\n      \"properties\": {\n        \"dtype\": \"string\",\n        \"num_unique_values\": 1,\n        \"samples\": [\n          \"Logistic Regression\"\n        ],\n        \"semantic_type\": \"\",\n        \"description\": \"\"\n      }\n    },\n    {\n      \"column\": \"SMOTE\",\n      \"properties\": {\n        \"dtype\": \"string\",\n        \"num_unique_values\": 2,\n        \"samples\": [\n          \"With SMOTE\"\n        ],\n        \"semantic_type\": \"\",\n        \"description\": \"\"\n      }\n    },\n    {\n      \"column\": \"ROC_AUC Score\",\n      \"properties\": {\n        \"dtype\": \"number\",\n        \"std\": 0.05047096118712424,\n        \"min\": 0.7256718943489759,\n        \"max\": 0.7970486121658131,\n        \"num_unique_values\": 2,\n        \"samples\": [\n          0.7970486121658131\n        ],\n        \"semantic_type\": \"\",\n        \"description\": \"\"\n      }\n    }\n  ]\n}"
            }
          },
          "metadata": {},
          "execution_count": 46
        }
      ],
      "source": [
        "from imblearn.over_sampling import SMOTE\n",
        "def run_logistic_regression(imbalance=False):\n",
        "    # Split data\n",
        "    X_train, X_test, y_train, y_test = data_split(X, y, imbalance = imbalance)\n",
        "\n",
        "    # Rescale data\n",
        "    X_train_std, X_test_std = standard_scaler(X_train, X_test, numerical_cols = num_cols)\n",
        "\n",
        "    # Instantiate model\n",
        "    clf_lr = LogisticRegression(random_state=42)\n",
        "\n",
        "    # Fit the model\n",
        "    clf_lr.fit(X_train_std, y_train)\n",
        "\n",
        "    # Use model's default parameters to get cross validation score\n",
        "    scores = cross_val_score(clf_lr, X_train_std, y_train, scoring =\"roc_auc\", cv = 5)\n",
        "    roc_auc_lr = np.mean(scores)\n",
        "\n",
        "    if imbalance:\n",
        "        return \"Logistic Regression\", \"With SMOTE\", roc_auc_lr\n",
        "    else:\n",
        "        return \"Logistic Regression\", \"Without SMOTE\", roc_auc_lr\n",
        "\n",
        "model_result = []\n",
        "model_result.append(run_logistic_regression())\n",
        "model_result.append(run_logistic_regression(imbalance=True))\n",
        "\n",
        "pd.DataFrame(model_result, columns = [\"Model\", \"SMOTE\", \"ROC_AUC Score\"])"
      ]
    },
    {
      "cell_type": "code",
      "execution_count": null,
      "metadata": {
        "colab": {
          "base_uri": "https://localhost:8080/"
        },
        "id": "BTOpDF75dLZh",
        "outputId": "86202b01-8a5b-435e-95e5-1c1b7c80e280"
      },
      "outputs": [
        {
          "output_type": "stream",
          "name": "stdout",
          "text": [
            "{'C': np.float64(1.3348344445560874), 'penalty': 'l1'}\n"
          ]
        }
      ],
      "source": [
        "# Randomized search for the best C parameter\n",
        "\n",
        "from sklearn.model_selection import RandomizedSearchCV\n",
        "from scipy.stats import uniform\n",
        "\n",
        "# Split data with SMOTE\n",
        "X_train, X_test, y_train, y_test = data_split(X, y, imbalance = True)\n",
        "\n",
        "# Rescale data\n",
        "X_train_std, X_test_std = standard_scaler(X_train, X_test, numerical_cols = num_cols)\n",
        "\n",
        "logistic = LogisticRegression(solver='saga', tol=1e-2, max_iter=200,random_state=42)\n",
        "distributions = dict(C=uniform(loc=0, scale=4), penalty=['l2', 'l1'])\n",
        "clf = RandomizedSearchCV(logistic, distributions, random_state=42)\n",
        "\n",
        "lr_best= clf.fit(X_train_std, y_train)\n",
        "\n",
        "print(lr_best.best_params_)"
      ]
    },
    {
      "cell_type": "code",
      "execution_count": null,
      "metadata": {
        "colab": {
          "base_uri": "https://localhost:8080/"
        },
        "id": "ZsAMtgGQdLZh",
        "outputId": "63a0c071-47db-49b5-83f8-812fb2ec497a"
      },
      "outputs": [
        {
          "output_type": "execute_result",
          "data": {
            "text/plain": [
              "['logreg_sm_tuned.pkl']"
            ]
          },
          "metadata": {},
          "execution_count": 51
        }
      ],
      "source": [
        "# Save tuned model and parameters\n",
        "\n",
        "joblib.dump(lr_best,\"logreg_sm_tuned.pkl\")"
      ]
    },
    {
      "cell_type": "code",
      "execution_count": null,
      "metadata": {
        "id": "4HQPYTAcdLZh"
      },
      "outputs": [],
      "source": [
        "lr_best = joblib.load(\"logreg_sm_tuned.pkl\")"
      ]
    },
    {
      "cell_type": "code",
      "execution_count": null,
      "metadata": {
        "colab": {
          "base_uri": "https://localhost:8080/"
        },
        "id": "4d9O2Ob0dLZh",
        "outputId": "61770c72-301c-4619-bf5b-c0491e3a0863"
      },
      "outputs": [
        {
          "output_type": "stream",
          "name": "stdout",
          "text": [
            "ROC_AUC score after tuning parameters:0.792\n"
          ]
        }
      ],
      "source": [
        "# Get ROC_AUC score of tuned model on training data\n",
        "\n",
        "scores_tuned = cross_val_score(lr_best, X_train_std, y_train, scoring = \"roc_auc\", cv = 5)\n",
        "roc_auc_lr_best = np.mean(scores_tuned)\n",
        "\n",
        "print(f'ROC_AUC score after tuning parameters:{roc_auc_lr_best:.3f}')"
      ]
    },
    {
      "cell_type": "code",
      "execution_count": null,
      "metadata": {
        "colab": {
          "base_uri": "https://localhost:8080/"
        },
        "id": "1yDqD_OZdLZi",
        "outputId": "bf7579e6-cee3-4f8b-8acf-698bb6da25aa"
      },
      "outputs": [
        {
          "output_type": "execute_result",
          "data": {
            "text/plain": [
              "['logreg_ROC_AUC_CV.pkl']"
            ]
          },
          "metadata": {},
          "execution_count": 54
        }
      ],
      "source": [
        "# Save best ROC_AUC\n",
        "\n",
        "joblib.dump(roc_auc_lr_best,\"logreg_ROC_AUC_CV.pkl\")"
      ]
    },
    {
      "cell_type": "code",
      "execution_count": null,
      "metadata": {
        "colab": {
          "base_uri": "https://localhost:8080/"
        },
        "id": "FCCDMUtsdLZi",
        "outputId": "571bbf12-995a-4261-c624-c689a2bcc644"
      },
      "outputs": [
        {
          "output_type": "execute_result",
          "data": {
            "text/plain": [
              "np.float64(0.7921795914384686)"
            ]
          },
          "metadata": {},
          "execution_count": 55
        }
      ],
      "source": [
        "roc_auc_lr_best = joblib.load(\"logreg_ROC_AUC_CV.pkl\")\n",
        "roc_auc_lr_best"
      ]
    },
    {
      "cell_type": "markdown",
      "metadata": {
        "id": "IrOYuQhydLZi"
      },
      "source": [
        "#### Logistic Regression Model Evaluation"
      ]
    },
    {
      "cell_type": "markdown",
      "metadata": {
        "id": "3N97n0FXdLZi"
      },
      "source": [
        "#### Precision_Recall and F1 Score"
      ]
    },
    {
      "cell_type": "code",
      "execution_count": null,
      "metadata": {
        "id": "TyyJJrAydLZj"
      },
      "outputs": [],
      "source": [
        "# Define a function to compute Precision, Recall and F1 score\n",
        "\n",
        "def get_pre_rec_f1(model,X_test,y_test):\n",
        "    y_pred = model.predict(X_test)\n",
        "    tn, fp, fn, tp = confusion_matrix(y_test, y_pred).ravel()\n",
        "\n",
        "    precision = tp / (tp + fp)\n",
        "    recall = tp / (tp + fn)\n",
        "    F1 = 2 * (precision * recall) / (precision + recall)\n",
        "\n",
        "    print(f'Precision:{precision:.3f}\\nRecall:{recall:.3f}\\nF1 score:{F1:.3f}')"
      ]
    },
    {
      "cell_type": "code",
      "execution_count": null,
      "metadata": {
        "colab": {
          "base_uri": "https://localhost:8080/"
        },
        "id": "NxTH0g-idLZj",
        "outputId": "564bfbb1-7442-4289-89ad-89271ddd7bbb"
      },
      "outputs": [
        {
          "output_type": "stream",
          "name": "stdout",
          "text": [
            "Logistic Regression model on test data:\n",
            "Precision:0.387\n",
            "Recall:0.567\n",
            "F1 score:0.460\n"
          ]
        }
      ],
      "source": [
        "# Calculate precision and recall of Logistic Regression model\n",
        "\n",
        "print('Logistic Regression model on test data:')\n",
        "get_pre_rec_f1(lr_best, X_test_std, y_test)"
      ]
    },
    {
      "cell_type": "markdown",
      "metadata": {
        "id": "OwJQBXJYdLZj"
      },
      "source": [
        "#### Model Performance:\n",
        "The business nature of credit card default analysis requires model to have a high recall. Logstic Regression model has a recall as 0.566. Let's look at another model - Random Forest to see if we can get a better recall."
      ]
    },
    {
      "cell_type": "markdown",
      "metadata": {
        "id": "YC73XseZdLZj"
      },
      "source": [
        "### 2. Random Forest"
      ]
    },
    {
      "cell_type": "code",
      "execution_count": null,
      "metadata": {
        "colab": {
          "base_uri": "https://localhost:8080/",
          "height": 112
        },
        "id": "gbf2pQHBdLZj",
        "outputId": "f65e560a-7a88-4811-865d-3a0ff9e6ff29"
      },
      "outputs": [
        {
          "output_type": "execute_result",
          "data": {
            "text/plain": [
              "           Model          SMOTE  ROC_AUC Score\n",
              "0  Random Forest  Without SMOTE       0.766120\n",
              "1  Random Forest     With SMOTE       0.920385"
            ],
            "text/html": [
              "\n",
              "  <div id=\"df-b75e6b29-86ff-4a5c-8be2-e22fa40b0df5\" class=\"colab-df-container\">\n",
              "    <div>\n",
              "<style scoped>\n",
              "    .dataframe tbody tr th:only-of-type {\n",
              "        vertical-align: middle;\n",
              "    }\n",
              "\n",
              "    .dataframe tbody tr th {\n",
              "        vertical-align: top;\n",
              "    }\n",
              "\n",
              "    .dataframe thead th {\n",
              "        text-align: right;\n",
              "    }\n",
              "</style>\n",
              "<table border=\"1\" class=\"dataframe\">\n",
              "  <thead>\n",
              "    <tr style=\"text-align: right;\">\n",
              "      <th></th>\n",
              "      <th>Model</th>\n",
              "      <th>SMOTE</th>\n",
              "      <th>ROC_AUC Score</th>\n",
              "    </tr>\n",
              "  </thead>\n",
              "  <tbody>\n",
              "    <tr>\n",
              "      <th>0</th>\n",
              "      <td>Random Forest</td>\n",
              "      <td>Without SMOTE</td>\n",
              "      <td>0.766120</td>\n",
              "    </tr>\n",
              "    <tr>\n",
              "      <th>1</th>\n",
              "      <td>Random Forest</td>\n",
              "      <td>With SMOTE</td>\n",
              "      <td>0.920385</td>\n",
              "    </tr>\n",
              "  </tbody>\n",
              "</table>\n",
              "</div>\n",
              "    <div class=\"colab-df-buttons\">\n",
              "\n",
              "  <div class=\"colab-df-container\">\n",
              "    <button class=\"colab-df-convert\" onclick=\"convertToInteractive('df-b75e6b29-86ff-4a5c-8be2-e22fa40b0df5')\"\n",
              "            title=\"Convert this dataframe to an interactive table.\"\n",
              "            style=\"display:none;\">\n",
              "\n",
              "  <svg xmlns=\"http://www.w3.org/2000/svg\" height=\"24px\" viewBox=\"0 -960 960 960\">\n",
              "    <path d=\"M120-120v-720h720v720H120Zm60-500h600v-160H180v160Zm220 220h160v-160H400v160Zm0 220h160v-160H400v160ZM180-400h160v-160H180v160Zm440 0h160v-160H620v160ZM180-180h160v-160H180v160Zm440 0h160v-160H620v160Z\"/>\n",
              "  </svg>\n",
              "    </button>\n",
              "\n",
              "  <style>\n",
              "    .colab-df-container {\n",
              "      display:flex;\n",
              "      gap: 12px;\n",
              "    }\n",
              "\n",
              "    .colab-df-convert {\n",
              "      background-color: #E8F0FE;\n",
              "      border: none;\n",
              "      border-radius: 50%;\n",
              "      cursor: pointer;\n",
              "      display: none;\n",
              "      fill: #1967D2;\n",
              "      height: 32px;\n",
              "      padding: 0 0 0 0;\n",
              "      width: 32px;\n",
              "    }\n",
              "\n",
              "    .colab-df-convert:hover {\n",
              "      background-color: #E2EBFA;\n",
              "      box-shadow: 0px 1px 2px rgba(60, 64, 67, 0.3), 0px 1px 3px 1px rgba(60, 64, 67, 0.15);\n",
              "      fill: #174EA6;\n",
              "    }\n",
              "\n",
              "    .colab-df-buttons div {\n",
              "      margin-bottom: 4px;\n",
              "    }\n",
              "\n",
              "    [theme=dark] .colab-df-convert {\n",
              "      background-color: #3B4455;\n",
              "      fill: #D2E3FC;\n",
              "    }\n",
              "\n",
              "    [theme=dark] .colab-df-convert:hover {\n",
              "      background-color: #434B5C;\n",
              "      box-shadow: 0px 1px 3px 1px rgba(0, 0, 0, 0.15);\n",
              "      filter: drop-shadow(0px 1px 2px rgba(0, 0, 0, 0.3));\n",
              "      fill: #FFFFFF;\n",
              "    }\n",
              "  </style>\n",
              "\n",
              "    <script>\n",
              "      const buttonEl =\n",
              "        document.querySelector('#df-b75e6b29-86ff-4a5c-8be2-e22fa40b0df5 button.colab-df-convert');\n",
              "      buttonEl.style.display =\n",
              "        google.colab.kernel.accessAllowed ? 'block' : 'none';\n",
              "\n",
              "      async function convertToInteractive(key) {\n",
              "        const element = document.querySelector('#df-b75e6b29-86ff-4a5c-8be2-e22fa40b0df5');\n",
              "        const dataTable =\n",
              "          await google.colab.kernel.invokeFunction('convertToInteractive',\n",
              "                                                    [key], {});\n",
              "        if (!dataTable) return;\n",
              "\n",
              "        const docLinkHtml = 'Like what you see? Visit the ' +\n",
              "          '<a target=\"_blank\" href=https://colab.research.google.com/notebooks/data_table.ipynb>data table notebook</a>'\n",
              "          + ' to learn more about interactive tables.';\n",
              "        element.innerHTML = '';\n",
              "        dataTable['output_type'] = 'display_data';\n",
              "        await google.colab.output.renderOutput(dataTable, element);\n",
              "        const docLink = document.createElement('div');\n",
              "        docLink.innerHTML = docLinkHtml;\n",
              "        element.appendChild(docLink);\n",
              "      }\n",
              "    </script>\n",
              "  </div>\n",
              "\n",
              "\n",
              "    <div id=\"df-5c1fad56-92be-43ad-8679-aa1b55f310f3\">\n",
              "      <button class=\"colab-df-quickchart\" onclick=\"quickchart('df-5c1fad56-92be-43ad-8679-aa1b55f310f3')\"\n",
              "                title=\"Suggest charts\"\n",
              "                style=\"display:none;\">\n",
              "\n",
              "<svg xmlns=\"http://www.w3.org/2000/svg\" height=\"24px\"viewBox=\"0 0 24 24\"\n",
              "     width=\"24px\">\n",
              "    <g>\n",
              "        <path d=\"M19 3H5c-1.1 0-2 .9-2 2v14c0 1.1.9 2 2 2h14c1.1 0 2-.9 2-2V5c0-1.1-.9-2-2-2zM9 17H7v-7h2v7zm4 0h-2V7h2v10zm4 0h-2v-4h2v4z\"/>\n",
              "    </g>\n",
              "</svg>\n",
              "      </button>\n",
              "\n",
              "<style>\n",
              "  .colab-df-quickchart {\n",
              "      --bg-color: #E8F0FE;\n",
              "      --fill-color: #1967D2;\n",
              "      --hover-bg-color: #E2EBFA;\n",
              "      --hover-fill-color: #174EA6;\n",
              "      --disabled-fill-color: #AAA;\n",
              "      --disabled-bg-color: #DDD;\n",
              "  }\n",
              "\n",
              "  [theme=dark] .colab-df-quickchart {\n",
              "      --bg-color: #3B4455;\n",
              "      --fill-color: #D2E3FC;\n",
              "      --hover-bg-color: #434B5C;\n",
              "      --hover-fill-color: #FFFFFF;\n",
              "      --disabled-bg-color: #3B4455;\n",
              "      --disabled-fill-color: #666;\n",
              "  }\n",
              "\n",
              "  .colab-df-quickchart {\n",
              "    background-color: var(--bg-color);\n",
              "    border: none;\n",
              "    border-radius: 50%;\n",
              "    cursor: pointer;\n",
              "    display: none;\n",
              "    fill: var(--fill-color);\n",
              "    height: 32px;\n",
              "    padding: 0;\n",
              "    width: 32px;\n",
              "  }\n",
              "\n",
              "  .colab-df-quickchart:hover {\n",
              "    background-color: var(--hover-bg-color);\n",
              "    box-shadow: 0 1px 2px rgba(60, 64, 67, 0.3), 0 1px 3px 1px rgba(60, 64, 67, 0.15);\n",
              "    fill: var(--button-hover-fill-color);\n",
              "  }\n",
              "\n",
              "  .colab-df-quickchart-complete:disabled,\n",
              "  .colab-df-quickchart-complete:disabled:hover {\n",
              "    background-color: var(--disabled-bg-color);\n",
              "    fill: var(--disabled-fill-color);\n",
              "    box-shadow: none;\n",
              "  }\n",
              "\n",
              "  .colab-df-spinner {\n",
              "    border: 2px solid var(--fill-color);\n",
              "    border-color: transparent;\n",
              "    border-bottom-color: var(--fill-color);\n",
              "    animation:\n",
              "      spin 1s steps(1) infinite;\n",
              "  }\n",
              "\n",
              "  @keyframes spin {\n",
              "    0% {\n",
              "      border-color: transparent;\n",
              "      border-bottom-color: var(--fill-color);\n",
              "      border-left-color: var(--fill-color);\n",
              "    }\n",
              "    20% {\n",
              "      border-color: transparent;\n",
              "      border-left-color: var(--fill-color);\n",
              "      border-top-color: var(--fill-color);\n",
              "    }\n",
              "    30% {\n",
              "      border-color: transparent;\n",
              "      border-left-color: var(--fill-color);\n",
              "      border-top-color: var(--fill-color);\n",
              "      border-right-color: var(--fill-color);\n",
              "    }\n",
              "    40% {\n",
              "      border-color: transparent;\n",
              "      border-right-color: var(--fill-color);\n",
              "      border-top-color: var(--fill-color);\n",
              "    }\n",
              "    60% {\n",
              "      border-color: transparent;\n",
              "      border-right-color: var(--fill-color);\n",
              "    }\n",
              "    80% {\n",
              "      border-color: transparent;\n",
              "      border-right-color: var(--fill-color);\n",
              "      border-bottom-color: var(--fill-color);\n",
              "    }\n",
              "    90% {\n",
              "      border-color: transparent;\n",
              "      border-bottom-color: var(--fill-color);\n",
              "    }\n",
              "  }\n",
              "</style>\n",
              "\n",
              "      <script>\n",
              "        async function quickchart(key) {\n",
              "          const quickchartButtonEl =\n",
              "            document.querySelector('#' + key + ' button');\n",
              "          quickchartButtonEl.disabled = true;  // To prevent multiple clicks.\n",
              "          quickchartButtonEl.classList.add('colab-df-spinner');\n",
              "          try {\n",
              "            const charts = await google.colab.kernel.invokeFunction(\n",
              "                'suggestCharts', [key], {});\n",
              "          } catch (error) {\n",
              "            console.error('Error during call to suggestCharts:', error);\n",
              "          }\n",
              "          quickchartButtonEl.classList.remove('colab-df-spinner');\n",
              "          quickchartButtonEl.classList.add('colab-df-quickchart-complete');\n",
              "        }\n",
              "        (() => {\n",
              "          let quickchartButtonEl =\n",
              "            document.querySelector('#df-5c1fad56-92be-43ad-8679-aa1b55f310f3 button');\n",
              "          quickchartButtonEl.style.display =\n",
              "            google.colab.kernel.accessAllowed ? 'block' : 'none';\n",
              "        })();\n",
              "      </script>\n",
              "    </div>\n",
              "\n",
              "    </div>\n",
              "  </div>\n"
            ],
            "application/vnd.google.colaboratory.intrinsic+json": {
              "type": "dataframe",
              "summary": "{\n  \"name\": \"pd\",\n  \"rows\": 2,\n  \"fields\": [\n    {\n      \"column\": \"Model\",\n      \"properties\": {\n        \"dtype\": \"string\",\n        \"num_unique_values\": 1,\n        \"samples\": [\n          \"Random Forest\"\n        ],\n        \"semantic_type\": \"\",\n        \"description\": \"\"\n      }\n    },\n    {\n      \"column\": \"SMOTE\",\n      \"properties\": {\n        \"dtype\": \"string\",\n        \"num_unique_values\": 2,\n        \"samples\": [\n          \"With SMOTE\"\n        ],\n        \"semantic_type\": \"\",\n        \"description\": \"\"\n      }\n    },\n    {\n      \"column\": \"ROC_AUC Score\",\n      \"properties\": {\n        \"dtype\": \"number\",\n        \"std\": 0.1090819498459374,\n        \"min\": 0.766120050981338,\n        \"max\": 0.9203852238635644,\n        \"num_unique_values\": 2,\n        \"samples\": [\n          0.9203852238635644\n        ],\n        \"semantic_type\": \"\",\n        \"description\": \"\"\n      }\n    }\n  ]\n}"
            }
          },
          "metadata": {},
          "execution_count": 58
        }
      ],
      "source": [
        "def run_random_forest(imbalance=False):\n",
        "    # Split data\n",
        "    X_train, X_test, y_train, y_test = data_split(X, y, imbalance = imbalance)\n",
        "\n",
        "    # Instantiate model\n",
        "    clf_rf = RandomForestClassifier()\n",
        "\n",
        "    # Fit the model\n",
        "    clf_rf.fit(X_train, y_train)\n",
        "\n",
        "    # Use model's default parameters to get cross validation score\n",
        "    scores = cross_val_score(clf_rf, X_train, y_train, scoring =\"roc_auc\", cv = 5)\n",
        "    roc_auc_rf = np.mean(scores)\n",
        "\n",
        "    if imbalance:\n",
        "        return \"Random Forest\", \"With SMOTE\", roc_auc_rf\n",
        "    else:\n",
        "        return \"Random Forest\", \"Without SMOTE\", roc_auc_rf\n",
        "\n",
        "model_result = []\n",
        "model_result.append(run_random_forest())\n",
        "model_result.append(run_random_forest(imbalance=True))\n",
        "\n",
        "pd.DataFrame(model_result, columns = [\"Model\", \"SMOTE\", \"ROC_AUC Score\"])"
      ]
    },
    {
      "cell_type": "markdown",
      "metadata": {
        "id": "l6JOqqlAdLZl"
      },
      "source": [
        "#### Tune Parameters of Random Forest"
      ]
    },
    {
      "cell_type": "code",
      "execution_count": null,
      "metadata": {
        "id": "DdYqTiksdLZl"
      },
      "outputs": [],
      "source": [
        "# Split data with SMOTE\n",
        "X_train_sm, X_test, y_train_sm, y_test = data_split(X, y, imbalance = True)"
      ]
    },
    {
      "cell_type": "code",
      "source": [
        "from sklearn.model_selection import RandomizedSearchCV\n",
        "\n",
        "random_search = RandomizedSearchCV(\n",
        "    estimator=clf_rf,\n",
        "    param_distributions=param_grid,\n",
        "    n_iter=20,               # Try 20 random combinations instead of all 81\n",
        "    cv=2,\n",
        "    verbose=1,\n",
        "    n_jobs=-1,\n",
        "    random_state=42\n",
        ")\n",
        "\n",
        "random_search.fit(X_train_sm, y_train_sm)\n",
        "random_search.best_params_"
      ],
      "metadata": {
        "colab": {
          "base_uri": "https://localhost:8080/"
        },
        "id": "NJD26poiwNWS",
        "outputId": "bb19f787-3f29-4a66-db90-a349c9ec5377"
      },
      "execution_count": null,
      "outputs": [
        {
          "output_type": "stream",
          "name": "stdout",
          "text": [
            "Fitting 2 folds for each of 4 candidates, totalling 8 fits\n"
          ]
        },
        {
          "output_type": "execute_result",
          "data": {
            "text/plain": [
              "{'n_estimators': 200,\n",
              " 'min_samples_split': 10,\n",
              " 'min_samples_leaf': 4,\n",
              " 'max_depth': 90}"
            ]
          },
          "metadata": {},
          "execution_count": 65
        }
      ]
    },
    {
      "cell_type": "code",
      "execution_count": null,
      "metadata": {
        "colab": {
          "base_uri": "https://localhost:8080/"
        },
        "id": "F9P89VbudLZl",
        "outputId": "3b1294dc-c08a-4b7b-fa4e-130cb6262447"
      },
      "outputs": [
        {
          "output_type": "stream",
          "name": "stdout",
          "text": [
            "Fitting 2 folds for each of 4 candidates, totalling 8 fits\n"
          ]
        },
        {
          "output_type": "execute_result",
          "data": {
            "text/plain": [
              "{'max_depth': 60,\n",
              " 'min_samples_leaf': 4,\n",
              " 'min_samples_split': 10,\n",
              " 'n_estimators': 200}"
            ]
          },
          "metadata": {},
          "execution_count": 66
        }
      ],
      "source": [
        "# Create parameter grid\n",
        "param_grid = {\n",
        "    'max_depth': [60, 90],\n",
        "    'min_samples_leaf': [ 4],\n",
        "    'min_samples_split': [10],\n",
        "    'n_estimators': [100, 200]\n",
        "}\n",
        "\n",
        "# Instantiate the model\n",
        "clf_rf = RandomForestClassifier()\n",
        "\n",
        "# Instantiate grid search model\n",
        "grid_search = GridSearchCV(estimator = clf_rf, param_grid = param_grid,\n",
        "                          cv = 2, n_jobs = -1, verbose = 1)\n",
        "\n",
        "# Fit grid search to the data\n",
        "grid_search.fit(X_train_sm, y_train_sm)\n",
        "grid_search.best_params_"
      ]
    },
    {
      "cell_type": "code",
      "execution_count": null,
      "metadata": {
        "colab": {
          "base_uri": "https://localhost:8080/"
        },
        "id": "Ys3ER0f8dLZl",
        "outputId": "6d8ba12f-392f-4be4-ae07-88ac5e7f623f"
      },
      "outputs": [
        {
          "output_type": "execute_result",
          "data": {
            "text/plain": [
              "['RandomForest_tuned_final.pkl']"
            ]
          },
          "metadata": {},
          "execution_count": 67
        }
      ],
      "source": [
        "# Save tuned model\n",
        "\n",
        "joblib.dump(grid_search,\"RandomForest_tuned_final.pkl\")"
      ]
    },
    {
      "cell_type": "code",
      "execution_count": null,
      "metadata": {
        "id": "QuhBTE7odLZl"
      },
      "outputs": [],
      "source": [
        "grid_search = joblib.load(\"RandomForest_tuned_final.pkl\")"
      ]
    },
    {
      "cell_type": "code",
      "execution_count": null,
      "metadata": {
        "colab": {
          "base_uri": "https://localhost:8080/"
        },
        "id": "iATSxCbcdLZl",
        "outputId": "6190ae2e-a6fe-42ca-b515-e2fab88f434e"
      },
      "outputs": [
        {
          "output_type": "stream",
          "name": "stdout",
          "text": [
            "ROC_AUC training score after tuning for Random Forest: 0.905\n"
          ]
        }
      ],
      "source": [
        "# Use the best parameters to fit the model\n",
        "\n",
        "rf_best = RandomForestClassifier(**grid_search.best_params_)\n",
        "rf_best.fit(X_train_sm,y_train_sm)\n",
        "\n",
        "scores_best = cross_val_score(rf_best, X_train_sm, y_train_sm, scoring =\"roc_auc\", cv = 5)\n",
        "roc_auc_best = np.mean(scores_best)\n",
        "\n",
        "print(f'ROC_AUC training score after tuning for Random Forest: {roc_auc_best:.3f}')"
      ]
    },
    {
      "cell_type": "markdown",
      "metadata": {
        "id": "ginOl4uDdLZm"
      },
      "source": [
        "#### Random Forest Model Evaluation"
      ]
    },
    {
      "cell_type": "markdown",
      "metadata": {
        "id": "2emT1YHOdLZm"
      },
      "source": [
        "#### Precision_Recall and F1 Score"
      ]
    },
    {
      "cell_type": "code",
      "execution_count": null,
      "metadata": {
        "colab": {
          "base_uri": "https://localhost:8080/"
        },
        "id": "hI7WiajjdLZm",
        "outputId": "cae316ad-0695-4fba-bce4-9a00a4ed9128"
      },
      "outputs": [
        {
          "output_type": "stream",
          "name": "stdout",
          "text": [
            "Random Forest model on test data:\n",
            "Precision:0.521\n",
            "Recall:0.513\n",
            "F1 score:0.517\n"
          ]
        }
      ],
      "source": [
        "# Compute precision, recall and F1 score of Random Forest model on test data\n",
        "\n",
        "print('Random Forest model on test data:')\n",
        "get_pre_rec_f1(rf_best, X_test, y_test)"
      ]
    },
    {
      "cell_type": "markdown",
      "metadata": {
        "id": "X2ldyUpvdLZm"
      },
      "source": [
        "### 3. XGBoost"
      ]
    },
    {
      "cell_type": "code",
      "execution_count": null,
      "metadata": {
        "colab": {
          "base_uri": "https://localhost:8080/",
          "height": 112
        },
        "id": "L4-6tzBedLZm",
        "outputId": "0f5a5668-e7e0-4bbc-9912-307249a87cf2"
      },
      "outputs": [
        {
          "output_type": "execute_result",
          "data": {
            "text/plain": [
              "     Model          SMOTE  ROC_AUC Score\n",
              "0  XGBoost  Without SMOTE       0.761568\n",
              "1  XGBoost     With SMOTE       0.905443"
            ],
            "text/html": [
              "\n",
              "  <div id=\"df-e41a7410-b180-446e-9e92-25e476cb3c4e\" class=\"colab-df-container\">\n",
              "    <div>\n",
              "<style scoped>\n",
              "    .dataframe tbody tr th:only-of-type {\n",
              "        vertical-align: middle;\n",
              "    }\n",
              "\n",
              "    .dataframe tbody tr th {\n",
              "        vertical-align: top;\n",
              "    }\n",
              "\n",
              "    .dataframe thead th {\n",
              "        text-align: right;\n",
              "    }\n",
              "</style>\n",
              "<table border=\"1\" class=\"dataframe\">\n",
              "  <thead>\n",
              "    <tr style=\"text-align: right;\">\n",
              "      <th></th>\n",
              "      <th>Model</th>\n",
              "      <th>SMOTE</th>\n",
              "      <th>ROC_AUC Score</th>\n",
              "    </tr>\n",
              "  </thead>\n",
              "  <tbody>\n",
              "    <tr>\n",
              "      <th>0</th>\n",
              "      <td>XGBoost</td>\n",
              "      <td>Without SMOTE</td>\n",
              "      <td>0.761568</td>\n",
              "    </tr>\n",
              "    <tr>\n",
              "      <th>1</th>\n",
              "      <td>XGBoost</td>\n",
              "      <td>With SMOTE</td>\n",
              "      <td>0.905443</td>\n",
              "    </tr>\n",
              "  </tbody>\n",
              "</table>\n",
              "</div>\n",
              "    <div class=\"colab-df-buttons\">\n",
              "\n",
              "  <div class=\"colab-df-container\">\n",
              "    <button class=\"colab-df-convert\" onclick=\"convertToInteractive('df-e41a7410-b180-446e-9e92-25e476cb3c4e')\"\n",
              "            title=\"Convert this dataframe to an interactive table.\"\n",
              "            style=\"display:none;\">\n",
              "\n",
              "  <svg xmlns=\"http://www.w3.org/2000/svg\" height=\"24px\" viewBox=\"0 -960 960 960\">\n",
              "    <path d=\"M120-120v-720h720v720H120Zm60-500h600v-160H180v160Zm220 220h160v-160H400v160Zm0 220h160v-160H400v160ZM180-400h160v-160H180v160Zm440 0h160v-160H620v160ZM180-180h160v-160H180v160Zm440 0h160v-160H620v160Z\"/>\n",
              "  </svg>\n",
              "    </button>\n",
              "\n",
              "  <style>\n",
              "    .colab-df-container {\n",
              "      display:flex;\n",
              "      gap: 12px;\n",
              "    }\n",
              "\n",
              "    .colab-df-convert {\n",
              "      background-color: #E8F0FE;\n",
              "      border: none;\n",
              "      border-radius: 50%;\n",
              "      cursor: pointer;\n",
              "      display: none;\n",
              "      fill: #1967D2;\n",
              "      height: 32px;\n",
              "      padding: 0 0 0 0;\n",
              "      width: 32px;\n",
              "    }\n",
              "\n",
              "    .colab-df-convert:hover {\n",
              "      background-color: #E2EBFA;\n",
              "      box-shadow: 0px 1px 2px rgba(60, 64, 67, 0.3), 0px 1px 3px 1px rgba(60, 64, 67, 0.15);\n",
              "      fill: #174EA6;\n",
              "    }\n",
              "\n",
              "    .colab-df-buttons div {\n",
              "      margin-bottom: 4px;\n",
              "    }\n",
              "\n",
              "    [theme=dark] .colab-df-convert {\n",
              "      background-color: #3B4455;\n",
              "      fill: #D2E3FC;\n",
              "    }\n",
              "\n",
              "    [theme=dark] .colab-df-convert:hover {\n",
              "      background-color: #434B5C;\n",
              "      box-shadow: 0px 1px 3px 1px rgba(0, 0, 0, 0.15);\n",
              "      filter: drop-shadow(0px 1px 2px rgba(0, 0, 0, 0.3));\n",
              "      fill: #FFFFFF;\n",
              "    }\n",
              "  </style>\n",
              "\n",
              "    <script>\n",
              "      const buttonEl =\n",
              "        document.querySelector('#df-e41a7410-b180-446e-9e92-25e476cb3c4e button.colab-df-convert');\n",
              "      buttonEl.style.display =\n",
              "        google.colab.kernel.accessAllowed ? 'block' : 'none';\n",
              "\n",
              "      async function convertToInteractive(key) {\n",
              "        const element = document.querySelector('#df-e41a7410-b180-446e-9e92-25e476cb3c4e');\n",
              "        const dataTable =\n",
              "          await google.colab.kernel.invokeFunction('convertToInteractive',\n",
              "                                                    [key], {});\n",
              "        if (!dataTable) return;\n",
              "\n",
              "        const docLinkHtml = 'Like what you see? Visit the ' +\n",
              "          '<a target=\"_blank\" href=https://colab.research.google.com/notebooks/data_table.ipynb>data table notebook</a>'\n",
              "          + ' to learn more about interactive tables.';\n",
              "        element.innerHTML = '';\n",
              "        dataTable['output_type'] = 'display_data';\n",
              "        await google.colab.output.renderOutput(dataTable, element);\n",
              "        const docLink = document.createElement('div');\n",
              "        docLink.innerHTML = docLinkHtml;\n",
              "        element.appendChild(docLink);\n",
              "      }\n",
              "    </script>\n",
              "  </div>\n",
              "\n",
              "\n",
              "    <div id=\"df-824733a9-a282-41d2-be23-390a44720ecd\">\n",
              "      <button class=\"colab-df-quickchart\" onclick=\"quickchart('df-824733a9-a282-41d2-be23-390a44720ecd')\"\n",
              "                title=\"Suggest charts\"\n",
              "                style=\"display:none;\">\n",
              "\n",
              "<svg xmlns=\"http://www.w3.org/2000/svg\" height=\"24px\"viewBox=\"0 0 24 24\"\n",
              "     width=\"24px\">\n",
              "    <g>\n",
              "        <path d=\"M19 3H5c-1.1 0-2 .9-2 2v14c0 1.1.9 2 2 2h14c1.1 0 2-.9 2-2V5c0-1.1-.9-2-2-2zM9 17H7v-7h2v7zm4 0h-2V7h2v10zm4 0h-2v-4h2v4z\"/>\n",
              "    </g>\n",
              "</svg>\n",
              "      </button>\n",
              "\n",
              "<style>\n",
              "  .colab-df-quickchart {\n",
              "      --bg-color: #E8F0FE;\n",
              "      --fill-color: #1967D2;\n",
              "      --hover-bg-color: #E2EBFA;\n",
              "      --hover-fill-color: #174EA6;\n",
              "      --disabled-fill-color: #AAA;\n",
              "      --disabled-bg-color: #DDD;\n",
              "  }\n",
              "\n",
              "  [theme=dark] .colab-df-quickchart {\n",
              "      --bg-color: #3B4455;\n",
              "      --fill-color: #D2E3FC;\n",
              "      --hover-bg-color: #434B5C;\n",
              "      --hover-fill-color: #FFFFFF;\n",
              "      --disabled-bg-color: #3B4455;\n",
              "      --disabled-fill-color: #666;\n",
              "  }\n",
              "\n",
              "  .colab-df-quickchart {\n",
              "    background-color: var(--bg-color);\n",
              "    border: none;\n",
              "    border-radius: 50%;\n",
              "    cursor: pointer;\n",
              "    display: none;\n",
              "    fill: var(--fill-color);\n",
              "    height: 32px;\n",
              "    padding: 0;\n",
              "    width: 32px;\n",
              "  }\n",
              "\n",
              "  .colab-df-quickchart:hover {\n",
              "    background-color: var(--hover-bg-color);\n",
              "    box-shadow: 0 1px 2px rgba(60, 64, 67, 0.3), 0 1px 3px 1px rgba(60, 64, 67, 0.15);\n",
              "    fill: var(--button-hover-fill-color);\n",
              "  }\n",
              "\n",
              "  .colab-df-quickchart-complete:disabled,\n",
              "  .colab-df-quickchart-complete:disabled:hover {\n",
              "    background-color: var(--disabled-bg-color);\n",
              "    fill: var(--disabled-fill-color);\n",
              "    box-shadow: none;\n",
              "  }\n",
              "\n",
              "  .colab-df-spinner {\n",
              "    border: 2px solid var(--fill-color);\n",
              "    border-color: transparent;\n",
              "    border-bottom-color: var(--fill-color);\n",
              "    animation:\n",
              "      spin 1s steps(1) infinite;\n",
              "  }\n",
              "\n",
              "  @keyframes spin {\n",
              "    0% {\n",
              "      border-color: transparent;\n",
              "      border-bottom-color: var(--fill-color);\n",
              "      border-left-color: var(--fill-color);\n",
              "    }\n",
              "    20% {\n",
              "      border-color: transparent;\n",
              "      border-left-color: var(--fill-color);\n",
              "      border-top-color: var(--fill-color);\n",
              "    }\n",
              "    30% {\n",
              "      border-color: transparent;\n",
              "      border-left-color: var(--fill-color);\n",
              "      border-top-color: var(--fill-color);\n",
              "      border-right-color: var(--fill-color);\n",
              "    }\n",
              "    40% {\n",
              "      border-color: transparent;\n",
              "      border-right-color: var(--fill-color);\n",
              "      border-top-color: var(--fill-color);\n",
              "    }\n",
              "    60% {\n",
              "      border-color: transparent;\n",
              "      border-right-color: var(--fill-color);\n",
              "    }\n",
              "    80% {\n",
              "      border-color: transparent;\n",
              "      border-right-color: var(--fill-color);\n",
              "      border-bottom-color: var(--fill-color);\n",
              "    }\n",
              "    90% {\n",
              "      border-color: transparent;\n",
              "      border-bottom-color: var(--fill-color);\n",
              "    }\n",
              "  }\n",
              "</style>\n",
              "\n",
              "      <script>\n",
              "        async function quickchart(key) {\n",
              "          const quickchartButtonEl =\n",
              "            document.querySelector('#' + key + ' button');\n",
              "          quickchartButtonEl.disabled = true;  // To prevent multiple clicks.\n",
              "          quickchartButtonEl.classList.add('colab-df-spinner');\n",
              "          try {\n",
              "            const charts = await google.colab.kernel.invokeFunction(\n",
              "                'suggestCharts', [key], {});\n",
              "          } catch (error) {\n",
              "            console.error('Error during call to suggestCharts:', error);\n",
              "          }\n",
              "          quickchartButtonEl.classList.remove('colab-df-spinner');\n",
              "          quickchartButtonEl.classList.add('colab-df-quickchart-complete');\n",
              "        }\n",
              "        (() => {\n",
              "          let quickchartButtonEl =\n",
              "            document.querySelector('#df-824733a9-a282-41d2-be23-390a44720ecd button');\n",
              "          quickchartButtonEl.style.display =\n",
              "            google.colab.kernel.accessAllowed ? 'block' : 'none';\n",
              "        })();\n",
              "      </script>\n",
              "    </div>\n",
              "\n",
              "    </div>\n",
              "  </div>\n"
            ],
            "application/vnd.google.colaboratory.intrinsic+json": {
              "type": "dataframe",
              "summary": "{\n  \"name\": \"pd\",\n  \"rows\": 2,\n  \"fields\": [\n    {\n      \"column\": \"Model\",\n      \"properties\": {\n        \"dtype\": \"string\",\n        \"num_unique_values\": 1,\n        \"samples\": [\n          \"XGBoost\"\n        ],\n        \"semantic_type\": \"\",\n        \"description\": \"\"\n      }\n    },\n    {\n      \"column\": \"SMOTE\",\n      \"properties\": {\n        \"dtype\": \"string\",\n        \"num_unique_values\": 2,\n        \"samples\": [\n          \"With SMOTE\"\n        ],\n        \"semantic_type\": \"\",\n        \"description\": \"\"\n      }\n    },\n    {\n      \"column\": \"ROC_AUC Score\",\n      \"properties\": {\n        \"dtype\": \"number\",\n        \"std\": 0.10173473650084743,\n        \"min\": 0.7615679953559988,\n        \"max\": 0.9054426394799504,\n        \"num_unique_values\": 2,\n        \"samples\": [\n          0.9054426394799504\n        ],\n        \"semantic_type\": \"\",\n        \"description\": \"\"\n      }\n    }\n  ]\n}"
            }
          },
          "metadata": {},
          "execution_count": 71
        }
      ],
      "source": [
        "def run_xgboost(imbalance=False):\n",
        "    # Split data\n",
        "    X_train, X_test, y_train, y_test = data_split(X, y, imbalance = imbalance)\n",
        "\n",
        "    # Instantiate model with default parameters\n",
        "    clf_xgb = XGBClassifier()\n",
        "\n",
        "    # Fit the model\n",
        "    clf_xgb.fit(X_train, y_train)\n",
        "\n",
        "    # Use model's default parameters to get cross validation score\n",
        "    scores = cross_val_score(clf_xgb, X_train, y_train, scoring =\"roc_auc\", cv = 5)\n",
        "    roc_auc_xgb = np.mean(scores)\n",
        "\n",
        "    if imbalance:\n",
        "        return \"XGBoost\", \"With SMOTE\", roc_auc_xgb\n",
        "    else:\n",
        "        return \"XGBoost\", \"Without SMOTE\", roc_auc_xgb\n",
        "\n",
        "\n",
        "model_result = []\n",
        "model_result.append(run_xgboost())\n",
        "model_result.append(run_xgboost(imbalance=True))\n",
        "\n",
        "pd.DataFrame(model_result, columns = [\"Model\", \"SMOTE\", \"ROC_AUC Score\"])"
      ]
    },
    {
      "cell_type": "code",
      "execution_count": null,
      "metadata": {
        "id": "SCPFBrNSdLZn"
      },
      "outputs": [],
      "source": [
        "# Sampling and split data with SMOTE\n",
        "X_train_sm, X_test, y_train_sm, y_test = data_split(X, y, imbalance = True)"
      ]
    },
    {
      "cell_type": "code",
      "execution_count": null,
      "metadata": {
        "colab": {
          "base_uri": "https://localhost:8080/"
        },
        "id": "LQCYyWXudLZn",
        "outputId": "80a681e0-6b51-4f48-b847-d3b8c55d16de"
      },
      "outputs": [
        {
          "output_type": "stream",
          "name": "stdout",
          "text": [
            "ROC_AUC training score with initial best parameters for XGBoost: 0.858\n"
          ]
        }
      ],
      "source": [
        "# Instantiate models with initial best guess parameters\n",
        "\n",
        "params = {\n",
        "    'gamma':0,\n",
        "    'learning_rate':0.01,\n",
        "    'max_depth':3,\n",
        "    'colsample_bytree':0.6,\n",
        "    'subsample':0.8,\n",
        "    'scale_pos_weight':3.5,\n",
        "    'n_estimators':1000,\n",
        "    'objective':'binary:logistic',\n",
        "    'reg_alpha':0.3\n",
        "}\n",
        "\n",
        "# Instantiate model\n",
        "clf_xgb = XGBClassifier(**params)\n",
        "\n",
        "# Use model's initial parameters to get cross validation score\n",
        "scores = cross_val_score(clf_xgb, X_train_sm, y_train_sm, scoring =\"roc_auc\", cv = 5)\n",
        "roc_auc_xgb = np.mean(scores)\n",
        "\n",
        "print(f'ROC_AUC training score with initial best parameters for XGBoost: {roc_auc_xgb:.3f}')"
      ]
    },
    {
      "cell_type": "markdown",
      "metadata": {
        "id": "-8KTebrpdLZn"
      },
      "source": [
        "#### Tune Parameters of XGBoost"
      ]
    },
    {
      "cell_type": "code",
      "execution_count": null,
      "metadata": {
        "colab": {
          "base_uri": "https://localhost:8080/"
        },
        "id": "3Y6Aot5SdLZn",
        "outputId": "59cd5ed1-9845-470b-e057-c77944addd0b"
      },
      "outputs": [
        {
          "output_type": "stream",
          "name": "stdout",
          "text": [
            "{'colsample_bytree': array([0.5, 0.6, 0.7, 0.8]),\n",
            " 'gamma': array([0.1, 0.2, 0.3, 0.4, 0.5]),\n",
            " 'learning_rate': array([0.1, 0.2, 0.3, 0.4, 0.5]),\n",
            " 'max_depth': [3, 4, 5, 6, 7],\n",
            " 'n_estimators': array([200, 400, 600, 800]),\n",
            " 'scale_pos_weight': [1, 3.5],\n",
            " 'subsample': array([0.5, 0.6, 0.7, 0.8])}\n"
          ]
        }
      ],
      "source": [
        "# Number of trees\n",
        "n_estimators = np.arange(200,1000,200)\n",
        "\n",
        "# Minimum loss reduction required to make a further partition on a leaf node of the tree\n",
        "# The larger gamma is, the more conservative the algorithm will be\n",
        "gamma = np.arange(0.1,0.6,0.1)\n",
        "\n",
        "# Default 0.3, range(0,1)\n",
        "learning_rate = np.arange(0.1,0.6,0.1)\n",
        "\n",
        "# Maximum number of levels in tree\n",
        "max_depth = list(range(3,8,1))\n",
        "\n",
        "# Subsample ratio of the training instances.Range(0,1)\n",
        "subsample = np.arange(0.5,0.9,0.1)\n",
        "\n",
        "# Subsample ratio of columns when constructing each tree. Range(0,1)\n",
        "colsample_bytree = np.arange(0.5,0.9,0.1)\n",
        "\n",
        "# Control the balance of positive and negative weights\n",
        "# Sum(negative instances) / sum(positive instances)\n",
        "scale_pos_weight = [1,3.5]\n",
        "\n",
        "\n",
        "# Create the random grid\n",
        "random_grid_xgb = {'n_estimators': n_estimators,\n",
        "                   'gamma': gamma,\n",
        "                   'learning_rate':learning_rate,\n",
        "                   'max_depth': max_depth,\n",
        "                   'subsample':subsample,\n",
        "                   'colsample_bytree':colsample_bytree,\n",
        "                   'scale_pos_weight':scale_pos_weight\n",
        "                  }\n",
        "pprint(random_grid_xgb)"
      ]
    },
    {
      "cell_type": "code",
      "execution_count": null,
      "metadata": {
        "colab": {
          "base_uri": "https://localhost:8080/"
        },
        "id": "fBGkTiFSdLZn",
        "outputId": "062c1afe-b4e5-4453-ae44-6e19613c80d4"
      },
      "outputs": [
        {
          "output_type": "stream",
          "name": "stdout",
          "text": [
            "Fitting 2 folds for each of 100 candidates, totalling 200 fits\n",
            "{'subsample': np.float64(0.6), 'scale_pos_weight': 3.5, 'n_estimators': np.int64(600), 'max_depth': 7, 'learning_rate': np.float64(0.2), 'gamma': np.float64(0.1), 'colsample_bytree': np.float64(0.7999999999999999)} 0.8903977502764779\n"
          ]
        }
      ],
      "source": [
        "# Use randomized search to find best parameters\n",
        "\n",
        "xgboost = XGBClassifier()\n",
        "xgb_random = RandomizedSearchCV(estimator = xgboost,\n",
        "                                param_distributions = random_grid_xgb,\n",
        "                                n_iter = 100,\n",
        "                                cv = 2,\n",
        "                                verbose=1,\n",
        "                                random_state=42,\n",
        "                                n_jobs = -1,\n",
        "                                scoring ='roc_auc')\n",
        "\n",
        "\n",
        "xgb_random.fit(X_train_sm, y_train_sm)\n",
        "xgb_random.best_params_, xgb_random.best_score_\n",
        "\n",
        "print(xgb_random.best_params_,xgb_random.best_score_)"
      ]
    },
    {
      "cell_type": "code",
      "execution_count": null,
      "metadata": {
        "id": "_80LdDbcdLZn"
      },
      "outputs": [],
      "source": [
        "# Save tuned model for future use\n",
        "\n",
        "# joblib.dump(xgb_random,'xgb_random_final.pkl')"
      ]
    },
    {
      "cell_type": "markdown",
      "metadata": {
        "id": "IHAyjf1ddLZo"
      },
      "source": [
        "After tuning hyperparameters, XGBoost has a ROC_AUC score of 0.898 on training data."
      ]
    },
    {
      "cell_type": "markdown",
      "metadata": {
        "id": "bqGBLlnDdLZo"
      },
      "source": [
        "#### XGBoost Model Evaluation"
      ]
    },
    {
      "cell_type": "code",
      "execution_count": null,
      "metadata": {
        "colab": {
          "base_uri": "https://localhost:8080/"
        },
        "id": "2lIDnXEzdLZo",
        "outputId": "1092eac0-370c-4f5c-a698-4372e876aa05"
      },
      "outputs": [
        {
          "output_type": "stream",
          "name": "stdout",
          "text": [
            "XGBoost model on test data:\n",
            "Precision:0.441\n",
            "Recall:0.491\n",
            "F1 score:0.465\n"
          ]
        }
      ],
      "source": [
        "# Compute precision, recall and F1 score of tuned XGBoost model on test data\n",
        "\n",
        "print('XGBoost model on test data:')\n",
        "\n",
        "get_pre_rec_f1(xgb_random, X_test, y_test)"
      ]
    },
    {
      "cell_type": "markdown",
      "metadata": {
        "id": "CrmaMOw_dLZo"
      },
      "source": [
        "## Model Comparison"
      ]
    },
    {
      "cell_type": "markdown",
      "metadata": {
        "id": "Q0OGu2vgdLZo"
      },
      "source": [
        "#### Confusion Matrix"
      ]
    },
    {
      "cell_type": "code",
      "execution_count": null,
      "metadata": {
        "colab": {
          "base_uri": "https://localhost:8080/",
          "height": 1000
        },
        "id": "Ou3d3wJ7dLZo",
        "outputId": "ce1b448e-e85d-42da-f55d-0a3cc249d6ea"
      },
      "outputs": [
        {
          "output_type": "display_data",
          "data": {
            "text/plain": [
              "<Figure size 1000x1500 with 6 Axes>"
            ],
            "image/png": "[encoded data removed]"
          },
          "metadata": {}
        }
      ],
      "source": [
        "from sklearn.metrics import ConfusionMatrixDisplay\n",
        "\n",
        "fig, ax = plt.subplots(3, 1, figsize=(10, 15))\n",
        "\n",
        "# Logistic Regression\n",
        "ConfusionMatrixDisplay.from_estimator(\n",
        "    lr_best, X_test_std, y_test, ax=ax[0], cmap='Blues', display_labels=[\"No Default\", \"Default\"]\n",
        ")\n",
        "ax[0].set_title(\"Logistic Regression\")\n",
        "\n",
        "# Random Forest\n",
        "ConfusionMatrixDisplay.from_estimator(\n",
        "    rf_best, X_test, y_test, ax=ax[1], cmap='Blues', display_labels=[\"No Default\", \"Default\"]\n",
        ")\n",
        "ax[1].set_title(\"Random Forest\")\n",
        "\n",
        "# XGBoost\n",
        "ConfusionMatrixDisplay.from_estimator(\n",
        "    xgb_random, X_test, y_test, ax=ax[2], cmap='Blues', display_labels=[\"No Default\", \"Default\"]\n",
        ")\n",
        "ax[2].set_title(\"XGBoost\")\n",
        "\n",
        "plt.tight_layout()\n",
        "plt.show()\n"
      ]
    },
    {
      "cell_type": "markdown",
      "metadata": {
        "id": "VB1A-1kIdLZo"
      },
      "source": [
        "#### ROC_AUC Curve"
      ]
    },
    {
      "cell_type": "code",
      "execution_count": null,
      "metadata": {
        "colab": {
          "base_uri": "https://localhost:8080/",
          "height": 487
        },
        "id": "Bf5R4ZsidLZo",
        "outputId": "b30cf24e-56ea-4f97-9c11-a7d162056148"
      },
      "outputs": [
        {
          "output_type": "display_data",
          "data": {
            "text/plain": [
              "<Figure size 1000x500 with 1 Axes>"
            ],
            "image/png": "[encoded data removed]"
          },
          "metadata": {}
        }
      ],
      "source": [
        "from sklearn.metrics import RocCurveDisplay\n",
        "\n",
        "# Create plot\n",
        "fig, ax = plt.subplots(figsize=(10, 5))\n",
        "\n",
        "# Logistic Regression\n",
        "RocCurveDisplay.from_estimator(lr_best, X_test_std, y_test, ax=ax, name=\"Logistic Regression\", color=\"blue\")\n",
        "\n",
        "# Random Forest\n",
        "RocCurveDisplay.from_estimator(rf_best, X_test, y_test, ax=ax, name=\"Random Forest\", color=\"black\")\n",
        "\n",
        "# XGBoost\n",
        "RocCurveDisplay.from_estimator(xgb_random, X_test, y_test, ax=ax, name=\"XGBoost\", color=\"red\")\n",
        "\n",
        "# Plot formatting\n",
        "plt.title('ROC/AUC of 3 Models')\n",
        "plt.grid(True)\n",
        "plt.show()\n"
      ]
    },
    {
      "cell_type": "markdown",
      "metadata": {
        "id": "njlFAdfSdLZp"
      },
      "source": [
        "#### Precision_Recall Curve"
      ]
    },
    {
      "cell_type": "markdown",
      "metadata": {
        "id": "CvaFtXDvdLZp"
      },
      "source": [
        "Since the classes are imbalanced, precision_recall curve is more approriate."
      ]
    },
    {
      "cell_type": "code",
      "execution_count": null,
      "metadata": {
        "colab": {
          "base_uri": "https://localhost:8080/",
          "height": 487
        },
        "id": "uDuba3cqdLZp",
        "outputId": "c0b16644-7231-48c0-bf9a-471d0e06c313"
      },
      "outputs": [
        {
          "output_type": "display_data",
          "data": {
            "text/plain": [
              "<Figure size 1000x500 with 1 Axes>"
            ],
            "image/png": "[encoded data removed]"
          },
          "metadata": {}
        }
      ],
      "source": [
        "from sklearn.metrics import PrecisionRecallDisplay\n",
        "\n",
        "# Create plot\n",
        "fig, ax = plt.subplots(figsize=(10, 5))\n",
        "\n",
        "# Logistic Regression\n",
        "PrecisionRecallDisplay.from_estimator(\n",
        "    lr_best, X_test_std, y_test, ax=ax, name='Logistic Regression', color=\"blue\"\n",
        ")\n",
        "\n",
        "# Random Forest\n",
        "PrecisionRecallDisplay.from_estimator(\n",
        "    rf_best, X_test, y_test, ax=ax, name='Random Forest', color=\"black\"\n",
        ")\n",
        "\n",
        "# XGBoost\n",
        "PrecisionRecallDisplay.from_estimator(\n",
        "    xgb_random, X_test, y_test, ax=ax, name='XGBoost', color=\"red\"\n",
        ")\n",
        "\n",
        "# Plot formatting\n",
        "plt.title('Precision-Recall Curve of 3 Models')\n",
        "plt.grid(True)\n",
        "plt.show()\n"
      ]
    },
    {
      "cell_type": "markdown",
      "metadata": {
        "id": "hlTXAcE-dLZp"
      },
      "source": [
        "#### Compare Models with DummyClassifier"
      ]
    },
    {
      "cell_type": "code",
      "execution_count": null,
      "metadata": {
        "colab": {
          "base_uri": "https://localhost:8080/"
        },
        "id": "W7uGOubudLZp",
        "outputId": "111c8211-f87e-44ae-c188-c1d596b610f8"
      },
      "outputs": [
        {
          "output_type": "stream",
          "name": "stdout",
          "text": [
            "Dummy model:\n",
            "Precision:0.219\n",
            "Recall:0.490\n",
            "F1 score:0.303\n"
          ]
        }
      ],
      "source": [
        "from sklearn.dummy import DummyClassifier\n",
        "\n",
        "dummy_clf = DummyClassifier(strategy=\"stratified\")\n",
        "dummy_clf.fit(X_train, y_train)\n",
        "DummyClassifier(strategy='stratified')\n",
        "y_pred_dummy = dummy_clf.predict(X_test)\n",
        "\n",
        "print('Dummy model:')\n",
        "get_pre_rec_f1(dummy_clf, X_test, y_test)"
      ]
    },
    {
      "cell_type": "markdown",
      "metadata": {
        "id": "JbyXPN_KdLZp"
      },
      "source": [
        "All 3 models outperformed the dummy classifier's performance. Logistic Regression model has the best recall and Random Forest has the best Precision_Recall balance."
      ]
    },
    {
      "cell_type": "markdown",
      "metadata": {
        "id": "X-utvl9CdLZp"
      },
      "source": [
        "| Models|Precision|Recall|F1 Score|Conclusion|\n",
        "| --- | --- | --- | --- |--- |\n",
        "| Dummy Model|0.217|0.500|0.303|Benchmark|\n",
        "| Logistic Regression|0.384|0.566|0.457|Best recall|\n",
        "| Random Forest|0.512|0.515|0.514|Best model|\n",
        "| XGBoost|0.444|0.505|0.474|Good|"
      ]
    },
    {
      "cell_type": "markdown",
      "metadata": {
        "id": "crCc0oUmdLZq"
      },
      "source": [
        "#### Model Recommendation"
      ]
    },
    {
      "cell_type": "markdown",
      "metadata": {
        "id": "Qd4QaAmddLZq"
      },
      "source": [
        "We recommend recall = 0.8, however, the threshold can be adjusted to reach higher recall."
      ]
    },
    {
      "cell_type": "code",
      "execution_count": null,
      "metadata": {
        "colab": {
          "base_uri": "https://localhost:8080/"
        },
        "id": "_99g7V3IdLZq",
        "outputId": "d4c32886-54e4-4a90-b9c0-f464e2199315"
      },
      "outputs": [
        {
          "output_type": "execute_result",
          "data": {
            "text/plain": [
              "(np.float64(0.7995981918633852),\n",
              " np.float64(0.3315975838367007),\n",
              " np.float64(0.2681957262508734))"
            ]
          },
          "metadata": {},
          "execution_count": 87
        }
      ],
      "source": [
        "# Compute precision, recall and threshold of Random Forest\n",
        "\n",
        "y_predict_rf = rf_best.predict_proba(X_test)\n",
        "y_scores_rf = y_predict_rf[:,1]\n",
        "\n",
        "precisions, recalls, thresholds = precision_recall_curve(y_test, y_scores_rf)\n",
        "\n",
        "recalls_80 = recalls[np.argmin(recalls >= 0.80)]               # Recommend recall score = 0.8\n",
        "precision_80 = precisions[np.argmin(recalls >= 0.80)]\n",
        "threshold_80_recall = thresholds[np.argmin(recalls >= 0.80)]\n",
        "\n",
        "thresholds = np.append(thresholds, 1)\n",
        "\n",
        "recalls_80, precision_80, threshold_80_recall\n"
      ]
    },
    {
      "cell_type": "code",
      "execution_count": null,
      "metadata": {
        "colab": {
          "base_uri": "https://localhost:8080/",
          "height": 487
        },
        "id": "_Gei7sFWdLZq",
        "outputId": "ce0919e1-fa0b-4a78-a48a-77c733179fdb"
      },
      "outputs": [
        {
          "output_type": "display_data",
          "data": {
            "text/plain": [
              "<Figure size 1000x500 with 1 Axes>"
            ],
            "image/png": "[encoded data removed]"
          },
          "metadata": {}
        }
      ],
      "source": [
        "# Plot recommended recall = 0.8\n",
        "\n",
        "fig, ax = plt.subplots(figsize=(10,5))\n",
        "\n",
        "ax.plot(thresholds, recalls, label='Recalls')\n",
        "ax.plot(thresholds, precisions, label='Precisions')\n",
        "\n",
        "ax.plot([threshold_80_recall, threshold_80_recall], [precision_80, recalls_80], \"r:\" )\n",
        "ax.plot([threshold_80_recall, threshold_80_recall], [0, precision_80], \"r:\")\n",
        "ax.plot([0, threshold_80_recall], [precision_80, precision_80], \"r:\")\n",
        "ax.plot([0, threshold_80_recall], [recalls_80, recalls_80], \"r:\")\n",
        "ax.plot([threshold_80_recall], [recalls_80], \"ro\", label='Threshold')\n",
        "\n",
        "ax.set_xlabel('Threshold')\n",
        "ax.set_ylabel('Precisons / Recalls')\n",
        "ax.legend(loc='center right',fontsize=16)\n",
        "plt.title('Model Recommendation(Recalls = 0.8)')\n",
        "plt.savefig('recommended_recall')\n",
        "plt.show()\n"
      ]
    },
    {
      "cell_type": "markdown",
      "metadata": {
        "id": "Jfet3FzYdLZq"
      },
      "source": [
        "#### Feature Importances"
      ]
    },
    {
      "cell_type": "code",
      "execution_count": null,
      "metadata": {
        "colab": {
          "base_uri": "https://localhost:8080/",
          "height": 719
        },
        "id": "jZnb1iNsdLZq",
        "outputId": "2723085d-8845-458d-fe7a-27218110dea8"
      },
      "outputs": [
        {
          "output_type": "execute_result",
          "data": {
            "text/plain": [
              "Text(0.5, 1.0, 'Features importance')"
            ]
          },
          "metadata": {},
          "execution_count": 89
        },
        {
          "output_type": "display_data",
          "data": {
            "text/plain": [
              "<Figure size 1000x800 with 1 Axes>"
            ],
            "image/png": "[encoded data removed]"
          },
          "metadata": {}
        }
      ],
      "source": [
        "# Plot feature importance of winner model - Random Forest\n",
        "\n",
        "fea_df = pd.DataFrame({'Feature': feature_cols, 'Feature importance': rf_best.feature_importances_})\n",
        "fea_df = fea_df.sort_values(by='Feature importance')\n",
        "\n",
        "figure, ax = plt.subplots(figsize = (10,8))\n",
        "fea_df.plot.barh(x='Feature',y='Feature importance', ax=ax)\n",
        "plt.title('Features importance',fontsize=14)"
      ]
    },
    {
      "cell_type": "markdown",
      "metadata": {
        "id": "Rb04A6RcdLZq"
      },
      "source": [
        "\"PAY_1\" AND \"Pay_2\" are the most recent 2 months' payment status and they are the strongest predictors of future payment default risk."
      ]
    },
    {
      "cell_type": "markdown",
      "metadata": {
        "id": "wDSBkGE0dLZr"
      },
      "source": [
        "## Conclusion"
      ]
    },
    {
      "cell_type": "markdown",
      "metadata": {
        "id": "NS5__VLddLZr"
      },
      "source": [
        "The Logistic Regression model has the highest recall but the lowest precision. If the business prioritizes recall above all else, this model would be the best fit. However, if a balance between recall and precision is crucial, the Random Forest model would be the preferred choice. Although Random Forest has slightly lower recall, its significantly higher precision makes it a more balanced model overall. Therefore, I would suggest Random Forest as the optimal choice."
      ]
    }
  ],
  "metadata": {
    "kernelspec": {
      "display_name": "Python 3",
      "language": "python",
      "name": "python3"
    },
    "language_info": {
      "codemirror_mode": {
        "name": "ipython",
        "version": 3
      },
      "file_extension": ".py",
      "mimetype": "text/x-python",
      "name": "python",
      "nbconvert_exporter": "python",
      "pygments_lexer": "ipython3",
      "version": "3.6.10"
    },
    "colab": {
      "provenance": []
    }
  },
  "nbformat": 4,
  "nbformat_minor": 0
}