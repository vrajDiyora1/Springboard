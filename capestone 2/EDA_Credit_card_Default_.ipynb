{
  "nbformat": 4,
  "nbformat_minor": 0,
  "metadata": {
    "colab": {
      "private_outputs": true,
      "provenance": []
    },
    "kernelspec": {
      "name": "python3",
      "display_name": "Python 3"
    },
    "language_info": {
      "name": "python"
    }
  },
  "cells": [
    {
      "cell_type": "markdown",
      "source": [
        "#EDA\n",
        "# Credit Card Default Analysis"
      ],
      "metadata": {
        "id": "b2Bim9OZFzQw"
      }
    },
    {
      "cell_type": "code",
      "execution_count": null,
      "metadata": {
        "id": "owLrbLWwFfo1"
      },
      "outputs": [],
      "source": [
        "# Import packages and modules\n",
        "import numpy as np\n",
        "import pandas as pd\n",
        "import matplotlib.pyplot as plt"
      ]
    },
    {
      "cell_type": "code",
      "source": [
        "import pandas as pd\n",
        "\n",
        "# Read the Excel file\n",
        "df = pd.read_excel(\"/content/default of credit card clients.xls\", header=1)\n",
        "\n",
        "# Print the shape of the DataFrame\n",
        "print(df.shape)\n"
      ],
      "metadata": {
        "id": "aejki8AdGFrc"
      },
      "execution_count": null,
      "outputs": []
    },
    {
      "cell_type": "markdown",
      "source": [
        "# 2. Explore the data :\n"
      ],
      "metadata": {
        "id": "gEVBgmC9HnlG"
      }
    },
    {
      "cell_type": "code",
      "source": [
        "# Examine the first 15 rows of the data\n",
        "df.head(15)"
      ],
      "metadata": {
        "id": "5kG_jvx1GZUH"
      },
      "execution_count": null,
      "outputs": []
    },
    {
      "cell_type": "code",
      "source": [
        "df.info()"
      ],
      "metadata": {
        "id": "LqpO5GPsIL4_"
      },
      "execution_count": null,
      "outputs": []
    },
    {
      "cell_type": "code",
      "source": [
        "df.columns"
      ],
      "metadata": {
        "id": "Ekuk6uujGeTp"
      },
      "execution_count": null,
      "outputs": []
    },
    {
      "cell_type": "code",
      "source": [
        "df.loc[0]"
      ],
      "metadata": {
        "id": "Qoe1XoIqHMgy"
      },
      "execution_count": null,
      "outputs": []
    },
    {
      "cell_type": "code",
      "source": [
        "#  there are 2 undocumented codes: 0,-2\n",
        "\n",
        "pay = df[['PAY_0','PAY_2','PAY_3','PAY_4','PAY_5','PAY_6']]\n",
        "pay_melt = pd.melt(pay)\n",
        "print(pay_melt['value'].value_counts())"
      ],
      "metadata": {
        "id": "GzFdp4f0HShL"
      },
      "execution_count": null,
      "outputs": []
    },
    {
      "cell_type": "code",
      "source": [
        "df['default payment next month'].value_counts(normalize=True)"
      ],
      "metadata": {
        "id": "wSoVcqZNIww2"
      },
      "execution_count": null,
      "outputs": []
    },
    {
      "cell_type": "markdown",
      "source": [
        "# 3. Data Cleaning:"
      ],
      "metadata": {
        "id": "DRyzFQc_J-NY"
      }
    },
    {
      "cell_type": "code",
      "source": [
        "df.rename(columns={'PAY_0':'PAY_1','default payment next month':'DEFAULT_PAY'},inplace = True)\n",
        "df.columns"
      ],
      "metadata": {
        "id": "zmr9z8gEJGWc"
      },
      "execution_count": null,
      "outputs": []
    },
    {
      "cell_type": "code",
      "source": [
        "# Check if there is any duplicate IDs\n",
        "condition = bool(df.duplicated(subset = 'ID').any())\n",
        "\n",
        "if condition:\n",
        "    print('There are duplicate IDs')\n",
        "else:\n",
        "    print('No duplicate IDs')"
      ],
      "metadata": {
        "id": "oSM4BcxQJo0w"
      },
      "execution_count": null,
      "outputs": []
    },
    {
      "cell_type": "code",
      "source": [
        "# Use histogram to view the distribution of credit limit\n",
        "\n",
        "plt.hist(df[\"LIMIT_BAL\"])\n",
        "plt.xlabel('Credit Limit ', fontweight='bold')\n",
        "plt.ylabel(' Customers', fontweight='bold')\n",
        "plt.show()"
      ],
      "metadata": {
        "id": "UWWRoAgkKPnr"
      },
      "execution_count": null,
      "outputs": []
    },
    {
      "cell_type": "code",
      "source": [
        "# Visualize outliers in the distribution of credit limits\n",
        "df[\"LIMIT_BAL\"].plot(kind=\"box\")\n",
        "plt.xlabel('Credit Limit ', fontweight='bold')\n",
        "plt.ylabel('Number of Customers', fontweight='bold')\n",
        "plt.show()\n"
      ],
      "metadata": {
        "id": "VTtz7sFEKSM4"
      },
      "execution_count": null,
      "outputs": []
    },
    {
      "cell_type": "code",
      "source": [
        "# Investigate the high credit limit outlier\n",
        "# Based on other feature values, this record represents a customer with excellent payment behavior\n",
        "# Hence, it is considered a legitimate observation and will not be removed\n",
        "\n",
        "outliers = df.loc[df['LIMIT_BAL'] > 900000]\n",
        "outliers\n"
      ],
      "metadata": {
        "id": "pA5bccbyKqEJ"
      },
      "execution_count": null,
      "outputs": []
    },
    {
      "cell_type": "code",
      "source": [
        "df.describe()"
      ],
      "metadata": {
        "id": "bjp71W0wK0ga"
      },
      "execution_count": null,
      "outputs": []
    },
    {
      "cell_type": "code",
      "source": [
        "# Saving processed csv file for part 2 - modeling\n",
        "\n",
        "df.to_csv(\"Credit Card Processed.csv\", index=None)"
      ],
      "metadata": {
        "id": "APBvjolTK49R"
      },
      "execution_count": null,
      "outputs": []
    },
    {
      "cell_type": "code",
      "source": [
        "# check sex column\n",
        "df[\"SEX\"].value_counts()"
      ],
      "metadata": {
        "id": "P7X5ugEQMM6r"
      },
      "execution_count": null,
      "outputs": []
    },
    {
      "cell_type": "code",
      "source": [
        "df[\"SEX\"]=df[\"SEX\"].map({1:'M',2:'F'}).astype('category')\n",
        "df[\"SEX\"].dtypes"
      ],
      "metadata": {
        "id": "aVqTK1SvMVgV"
      },
      "execution_count": null,
      "outputs": []
    },
    {
      "cell_type": "code",
      "source": [
        "# eductaion column\n",
        "df[\"EDUCATION\"].unique()\n",
        "df[\"EDUCATION\"].value_counts()"
      ],
      "metadata": {
        "id": "IWVW5QQtMa0B"
      },
      "execution_count": null,
      "outputs": []
    },
    {
      "cell_type": "code",
      "source": [
        "# Change values 4, 5, 6 to 0 and define 0 as 'others'\n",
        "# 1=graduate school, 2=university, 3=high school, 0=others\n",
        "\n",
        "df[\"EDUCATION\"] = df[\"EDUCATION\"].replace({4:0,5:0,6:0})\n",
        "df[\"EDUCATION\"].value_counts()"
      ],
      "metadata": {
        "id": "IudPmY_yM1R9"
      },
      "execution_count": null,
      "outputs": []
    },
    {
      "cell_type": "code",
      "source": [
        "# marriage column\n",
        "df[\"MARRIAGE\"].unique()"
      ],
      "metadata": {
        "id": "UXX22rKtNRM4"
      },
      "execution_count": null,
      "outputs": []
    },
    {
      "cell_type": "code",
      "source": [
        "df[\"MARRIAGE\"].value_counts(normalize=True)"
      ],
      "metadata": {
        "id": "AZjnZEQONvnG"
      },
      "execution_count": null,
      "outputs": []
    },
    {
      "cell_type": "code",
      "source": [
        "df[\"MARRIAGE\"] = df[\"MARRIAGE\"].replace({0:3})\n",
        "df[\"MARRIAGE\"].value_counts(normalize=True)"
      ],
      "metadata": {
        "id": "VkRiJd7YNxjw"
      },
      "execution_count": null,
      "outputs": []
    },
    {
      "cell_type": "markdown",
      "source": [
        "# 4. Hypothesis and Findings"
      ],
      "metadata": {
        "id": "M2eb3x3dN619"
      }
    },
    {
      "cell_type": "code",
      "source": [
        "df.set_index('ID', inplace = True)\n",
        "df.head()"
      ],
      "metadata": {
        "id": "IKHGcxRCNzO9"
      },
      "execution_count": null,
      "outputs": []
    },
    {
      "cell_type": "code",
      "source": [
        "def_condition = (df.PAY_1 >1) | (df.PAY_2 >1) | (df.PAY_3 >1) | (df.PAY_4 >1) | (df.PAY_5 >1) | (df.PAY_6 >1)\n",
        "df.loc[def_condition, \"HAS_DEF\"] = 1\n",
        "df.loc[df.HAS_DEF.isna(), \"HAS_DEF\"] = 0"
      ],
      "metadata": {
        "id": "slCq0Qy7ORKU"
      },
      "execution_count": null,
      "outputs": []
    },
    {
      "cell_type": "code",
      "source": [
        "def create_stacked_bar(column_name):\n",
        "    # Get the percentage of default by each group\n",
        "    default_by_group = pd.crosstab(index=df['HAS_DEF'], columns=df[column_name], normalize='columns')\n",
        "\n",
        "    # Round to 2 decimal places\n",
        "    default_by_group = default_by_group.apply(lambda x: round(x, 2))\n",
        "\n",
        "    labels = default_by_group.columns\n",
        "    list1 = default_by_group.iloc[0].to_list()\n",
        "    list2 = default_by_group.iloc[1].to_list()\n",
        "\n",
        "    list1_name = \"No default\"\n",
        "    list2_name = \"Has default\"\n",
        "    title = f\"Default by {column_name}\"\n",
        "    xlabel = column_name\n",
        "    ylabel = \"Default percentage\"\n",
        "\n",
        "    fig, ax = plt.subplots(figsize=(10, 5))\n",
        "    bar_width = 0.5\n",
        "\n",
        "    # Custom colors\n",
        "    color1 = '#4CAF50'  # Green for No default\n",
        "    color2 = '#F44336'  # Red for Has default\n",
        "\n",
        "    ax1 = ax.bar(labels, list1, bar_width, label=list1_name, color=color1)\n",
        "    ax2 = ax.bar(labels, list2, bar_width, bottom=list1, label=list2_name, color=color2)\n",
        "\n",
        "    ax.set_title(title, fontweight=\"bold\")\n",
        "    ax.set_xlabel(xlabel, fontweight=\"bold\")\n",
        "    ax.set_ylabel(ylabel, fontweight=\"bold\")\n",
        "    ax.legend(loc=\"best\")\n",
        "\n",
        "    plt.xticks(list(range(len(labels))), labels, rotation=90)\n",
        "    plt.yticks(fontsize=9)\n",
        "\n",
        "    for r1, r2 in zip(ax1, ax2):\n",
        "        h1 = r1.get_height()\n",
        "        h2 = r2.get_height()\n",
        "        plt.text(r1.get_x() + r1.get_width() / 2., h1 / 2., f\"{h1:.0%}\", ha=\"center\", va=\"center\", color=\"white\", fontsize=9, fontweight=\"bold\")\n",
        "        plt.text(r2.get_x() + r2.get_width() / 2., h1 + h2 / 2., f\"{h2:.0%}\", ha=\"center\", va=\"center\", color=\"white\", fontsize=9, fontweight=\"bold\")\n",
        "\n",
        "    plt.tight_layout()\n",
        "    plt.show()\n"
      ],
      "metadata": {
        "id": "qxc1fPReOYfJ"
      },
      "execution_count": null,
      "outputs": []
    },
    {
      "cell_type": "code",
      "source": [
        "create_stacked_bar('SEX')"
      ],
      "metadata": {
        "id": "-uWTS_YaOjEW"
      },
      "execution_count": null,
      "outputs": []
    },
    {
      "cell_type": "code",
      "source": [
        "create_stacked_bar('EDUCATION')"
      ],
      "metadata": {
        "id": "h1ktjS9YO36Q"
      },
      "execution_count": null,
      "outputs": []
    },
    {
      "cell_type": "code",
      "source": [
        "# Use boxplot to visualize credit limit grouped by education level\n",
        "\n",
        "data = []\n",
        "for i in [0,1,2,3]:\n",
        "    temp = df.loc[df.EDUCATION == i, \"LIMIT_BAL\"]\n",
        "    data.append(temp)\n",
        "\n",
        "fig, ax = plt.subplots()\n",
        "ax.boxplot(data)\n",
        "ax.set_xticklabels([\"others\",\"grad school\", \"university\", \"high school\"])\n",
        "\n",
        "plt.show()"
      ],
      "metadata": {
        "id": "UUPgr13aO6ru"
      },
      "execution_count": null,
      "outputs": []
    },
    {
      "cell_type": "code",
      "source": [
        "create_stacked_bar('MARRIAGE')"
      ],
      "metadata": {
        "id": "abMBHUs7O7Fq"
      },
      "execution_count": null,
      "outputs": []
    },
    {
      "cell_type": "code",
      "source": [
        "# Segment the 'AGE' column to 6 groups\n",
        "\n",
        "bins= [21,30,40,50,60,70,80]\n",
        "labels = ['20-30','30-40','40-50','50-60','60-70','70-80']\n",
        "df['AGE'] = pd.cut(df['AGE'],bins=bins, labels=labels,right=False)"
      ],
      "metadata": {
        "id": "sDiJ3_cfO9Sb"
      },
      "execution_count": null,
      "outputs": []
    },
    {
      "cell_type": "code",
      "source": [
        "# Plot a stacked bar chart to visualize default and non-default by age\n",
        "\n",
        "create_stacked_bar('AGE')"
      ],
      "metadata": {
        "id": "3wVWwHZjPBcj"
      },
      "execution_count": null,
      "outputs": []
    },
    {
      "cell_type": "code",
      "source": [
        "# Subset a dataframe with the records that have default\n",
        "\n",
        "has_default = df[df['HAS_DEF']== 1]\n",
        "default_trend = has_default[['PAY_6','PAY_5','PAY_4','PAY_3','PAY_2','PAY_1']].sum(axis=0)\n",
        "\n",
        "# Draw a line chart to show the trend. The lower the number, the shorter delayed payment\n",
        "fig,ax = plt.subplots()\n",
        "ax.plot(default_trend)\n",
        "plt.xticks(['PAY_6','PAY_5','PAY_4','PAY_3','PAY_2','PAY_1'],['Apr','May','Jun','Jul','Aug','Sep'])\n",
        "\n",
        "plt.xlabel('Months in 2005',fontweight='bold')\n",
        "plt.ylabel('Total delayed months',fontweight='bold')\n",
        "plt.title('Delayed payment trend',fontweight='bold')\n",
        "\n",
        "plt.show()"
      ],
      "metadata": {
        "id": "I6rlT1FLPDOO"
      },
      "execution_count": null,
      "outputs": []
    },
    {
      "cell_type": "code",
      "source": [
        "# Make a boxplot to visualize credit limit and default payment next month\n",
        "# 1: default next month; 0: no default next month\n",
        "\n",
        "def0 = df.loc[df['DEFAULT_PAY'] == 0,'LIMIT_BAL']\n",
        "def1 = df.loc[df['DEFAULT_PAY'] == 1,'LIMIT_BAL']\n",
        "\n",
        "fig, ax = plt.subplots()\n",
        "ax.boxplot([def0, def1],  showfliers=False)\n",
        "\n",
        "ax.set_xticklabels(['No_default',\"Default\"],fontweight ='bold')\n",
        "ax.set_ylabel('Credit limit',fontweight ='bold')\n",
        "ax.set_title('Credit limit & default next month',fontweight ='bold')\n",
        "\n",
        "plt.show()"
      ],
      "metadata": {
        "id": "nu5mf3IkPFvW"
      },
      "execution_count": null,
      "outputs": []
    },
    {
      "cell_type": "code",
      "source": [
        "# Get statistic summary of bill statement columns\n",
        "# The min numbers are negative\n",
        "\n",
        "bill = df[['BILL_AMT1','BILL_AMT2','BILL_AMT3','BILL_AMT4','BILL_AMT5','BILL_AMT6']]\n",
        "bill.describe()"
      ],
      "metadata": {
        "id": "a-Kx1vbJPZJO"
      },
      "execution_count": null,
      "outputs": []
    },
    {
      "cell_type": "code",
      "source": [
        "# How many bills have negative amount?\n",
        "# There are 3932 bills with negative amounts, each month has 599-688 records\n",
        "\n",
        "bill_melt = pd.melt(bill, var_name = 'bill_cycle',value_name = 'amount')\n",
        "neg_bill = bill_melt[bill_melt['amount']<0]\n",
        "neg_bill.groupby('bill_cycle').count()"
      ],
      "metadata": {
        "id": "tSAf0w-jQXap"
      },
      "execution_count": null,
      "outputs": []
    },
    {
      "cell_type": "code",
      "source": [
        "# Get the average amount of negative bill each month\n",
        "# Use USD/NTD = 30 to get the amount in USD. The average negative amount is $38-$102\n",
        "\n",
        "neg_bill_mean_ndt = neg_bill.groupby('bill_cycle')['amount'].mean()\n",
        "\n",
        "print('Average negative amounts in NTD are: \\n')\n",
        "print(neg_bill_mean_ndt)\n",
        "print('\\nAverage negative amounts in USD are: \\n')\n",
        "print(neg_bill_mean_ndt/30)"
      ],
      "metadata": {
        "id": "XbMj-mDpQXqQ"
      },
      "execution_count": null,
      "outputs": []
    },
    {
      "cell_type": "code",
      "source": [
        "# Is there any bill amount that is greater than credit limit?\n",
        "\n",
        "condition1 = df['BILL_AMT1'] > df['LIMIT_BAL']\n",
        "condition2 = df['BILL_AMT2'] > df['LIMIT_BAL']\n",
        "condition3 = df['BILL_AMT3'] > df['LIMIT_BAL']\n",
        "condition4 = df['BILL_AMT4'] > df['LIMIT_BAL']\n",
        "condition5 = df['BILL_AMT5'] > df['LIMIT_BAL']\n",
        "condition6 = df['BILL_AMT6'] > df['LIMIT_BAL']\n",
        "\n",
        "large_bill = df[condition1 | condition2 |condition3 | condition4 | condition5 | condition6]\n",
        "large_bill.shape"
      ],
      "metadata": {
        "id": "Ovzptu2HQZUW"
      },
      "execution_count": null,
      "outputs": []
    },
    {
      "cell_type": "code",
      "source": [
        "large_bill[\"HAS_DEF\"].value_counts()"
      ],
      "metadata": {
        "id": "--Fz6EWzQbSe"
      },
      "execution_count": null,
      "outputs": []
    },
    {
      "cell_type": "code",
      "source": [
        "# Is there any customer who never had any transaction, meaning bill amount in 6 months remained as 0\n",
        "# There are 870 customers whose bill amount was 0 in 6 months\n",
        "\n",
        "bill_amt = df[['BILL_AMT1','BILL_AMT2','BILL_AMT3','BILL_AMT4','BILL_AMT5','BILL_AMT6']]\n",
        "no_transaction = bill_amt[bill_amt.sum(axis=1) ==0]\n",
        "no_transaction"
      ],
      "metadata": {
        "id": "00hamEG5Qc6T"
      },
      "execution_count": null,
      "outputs": []
    },
    {
      "cell_type": "code",
      "source": [
        "# Check if those 870 customers defaulted in the next month (Oct.2005)\n",
        "# The assumption is since they did not have any consumption, they shouldn't default, so there shouldn't be any '1'\n",
        "\n",
        "no_transaction_de = df.loc[no_transaction.index,['DEFAULT_PAY']]\n",
        "no_transaction_de"
      ],
      "metadata": {
        "id": "mxHRLrVEQfIU"
      },
      "execution_count": null,
      "outputs": []
    },
    {
      "cell_type": "code",
      "source": [
        "# How many inactive customers had default payment next month\n",
        "# 317 customers had default payment next month which is against common sense\n",
        "\n",
        "no_transaction_de['DEFAULT_PAY'].value_counts()"
      ],
      "metadata": {
        "id": "C-h2yF8aQjSw"
      },
      "execution_count": null,
      "outputs": []
    },
    {
      "cell_type": "markdown",
      "source": [
        "#5. Statistical Analysis\n",
        "\n",
        "Should this section be embeded to previous EDA step?\n",
        "\n",
        "* Correlation between credit limit and bill amount: Pearson R\n",
        "* Correlation between credit limit and payment default: t-test\n",
        "* Correlation between education and payment default: chi-squared test\n",
        "* Correlation between age and payment default: chi-squared test\n",
        "* Correlation between sex and payment default: permutation test\n",
        "* Correlation between sex and credit limit: t-test"
      ],
      "metadata": {
        "id": "RJkjiIZAQ0K1"
      }
    },
    {
      "cell_type": "code",
      "source": [
        "df['BILL_SUM'] = df[['BILL_AMT1','BILL_AMT2','BILL_AMT3','BILL_AMT4','BILL_AMT5','BILL_AMT6']].sum(axis=1)\n",
        "credit_bill = df[['LIMIT_BAL','BILL_SUM']]\n",
        "credit_bill.corr()"
      ],
      "metadata": {
        "id": "FMEDBPPUQtmD"
      },
      "execution_count": null,
      "outputs": []
    },
    {
      "cell_type": "code",
      "source": [
        "from scipy import stats\n",
        "\n",
        "credit_limit = df['LIMIT_BAL']\n",
        "bill_amount = df[['BILL_AMT1','BILL_AMT2','BILL_AMT3','BILL_AMT4','BILL_AMT5','BILL_AMT6']].sum(axis=1)\n",
        "\n",
        "stats.pearsonr(credit_limit, bill_amount)"
      ],
      "metadata": {
        "id": "OUkSbId_RMHf"
      },
      "execution_count": null,
      "outputs": []
    },
    {
      "cell_type": "markdown",
      "source": [
        "#### Correlation between credit limit and payment default.\n",
        "Ideally, we should have customers' income data, but since this data is not available, we can assume higher income customers have higher credit limits. Therefore, we will verify if there is a correlation between credit limit and default payment using t-test.\n",
        "\n",
        "- Null hypothesis: credit limit does not affect default likelihood.\n",
        "- Alternative hypothesis: credit limit impact default likelihood.\n",
        "- Set significance level $\\alpha$ to 0.05"
      ],
      "metadata": {
        "id": "dJwtZGLVRWvy"
      }
    },
    {
      "cell_type": "code",
      "source": [
        "no_def_limit = df.loc[df['HAS_DEF']==0,'LIMIT_BAL']\n",
        "def_limit = df.loc[df['HAS_DEF']==1,'LIMIT_BAL']"
      ],
      "metadata": {
        "id": "bJYJGMaWRMkA"
      },
      "execution_count": null,
      "outputs": []
    },
    {
      "cell_type": "code",
      "source": [
        "from scipy import stats\n",
        "from scipy.stats import ttest_ind_from_stats\n",
        "\n",
        "ttest_ind_from_stats(mean1=np.mean(no_def_limit),std1=np.std(no_def_limit),nobs1=len(no_def_limit),\n",
        "                     mean2=np.mean(def_limit),std2=np.std(def_limit),nobs2=len(def_limit))"
      ],
      "metadata": {
        "id": "j2AWSie5RjAf"
      },
      "execution_count": null,
      "outputs": []
    },
    {
      "cell_type": "markdown",
      "source": [
        "#### Correlation between education and payment default.\n",
        "\n",
        "Previous visualization indicates education impacts default likelihood. We will use a Chi-squared test to verify this finding.\n",
        "- Null hypothesis: education does not affect default likelihood.\n",
        "- Alternative hypothesis: education impacts default likelihood.\n",
        "- Set significance level $\\alpha$ to 0.05"
      ],
      "metadata": {
        "id": "0swD7ffuRoYz"
      }
    },
    {
      "cell_type": "code",
      "source": [
        "# Get the contigence table of education and default data\n",
        "\n",
        "edu_def_contigence = pd.crosstab(df['HAS_DEF'], df['EDUCATION'], margins=False)"
      ],
      "metadata": {
        "id": "3zuJr2bKRp2j"
      },
      "execution_count": null,
      "outputs": []
    },
    {
      "cell_type": "code",
      "source": [
        "# Use Chi-squared test to test if education affects default likelihood.\n",
        "\n",
        "from scipy.stats import chisquare\n",
        "from scipy.stats import chi2_contingency\n",
        "stat, p, dof, expected = chi2_contingency(edu_def_contigence)\n",
        "\n",
        "p"
      ],
      "metadata": {
        "id": "mrh_TOunRsZ3"
      },
      "execution_count": null,
      "outputs": []
    },
    {
      "cell_type": "markdown",
      "source": [
        "#### Correlation between age and payment default.\n",
        "\n",
        "Previous visualization indicates age impacts default likelihood. We will use a chi-squared test to verify this finding.\n",
        "- Null hypothesis: age does not affect default likelihood.\n",
        "- Alternative hypothesis: age impacts default likelihood.\n",
        "- Set significance level $\\alpha$ to 0.05"
      ],
      "metadata": {
        "id": "pVsy4IRTRwjy"
      }
    },
    {
      "cell_type": "code",
      "source": [
        "\n",
        "age_def_contigence = pd.crosstab(df['HAS_DEF'], df['AGE'], margins=False)"
      ],
      "metadata": {
        "id": "uN7MNmNuRyB4"
      },
      "execution_count": null,
      "outputs": []
    },
    {
      "cell_type": "code",
      "source": [
        "# Use chi-squared test to test if age affects default likelihood.\n",
        "\n",
        "from scipy.stats import chisquare\n",
        "from scipy.stats import chi2_contingency\n",
        "stat, p, dof, expected = chi2_contingency(age_def_contigence)\n",
        "p"
      ],
      "metadata": {
        "id": "mrznggrYR0Tx"
      },
      "execution_count": null,
      "outputs": []
    },
    {
      "cell_type": "markdown",
      "source": [
        "#### Correlation between sex and payment default.\n",
        "\n",
        "In previous data visualization, it appears males tend to default more than females. Does sex have any correlations with default or was this observation due to chance event? Let's find out with a permutation test on each group's default proportions and mean respectively.\n",
        "- Null hypothesis: sex has no impact on default probability.\n",
        "- Alternative hypothesis: sex has impact on default probability.\n",
        "- Set significance level $\\alpha$ to 0.05."
      ],
      "metadata": {
        "id": "ozrfWRk0R_BY"
      }
    },
    {
      "cell_type": "code",
      "source": [
        "# Get the true difference of 'HAS_DEF' proportions of two sex groups\n",
        "\n",
        "male = df.loc[df['SEX']=='M','HAS_DEF']\n",
        "female = df.loc[df['SEX']=='F','HAS_DEF']\n",
        "true_diff_prop = male.sum()/len(male) - female.sum()/len(female)\n",
        "true_diff_prop"
      ],
      "metadata": {
        "id": "fpPmDejRR2LP"
      },
      "execution_count": null,
      "outputs": []
    },
    {
      "cell_type": "code",
      "source": [
        "# Define functions to do permutation test\n",
        "\n",
        "def permutation_sample(data1, data2):\n",
        "    data = np.concatenate((data1,data2))\n",
        "    permuted_data = np.random.permutation(data)\n",
        "    perm_sample_1 = permuted_data[:len(data1)]\n",
        "    perm_sample_2 = permuted_data[len(data1):]\n",
        "\n",
        "    return perm_sample_1, perm_sample_2\n",
        "\n",
        "def diff_of_prop(data1,data2):\n",
        "    diff = data1.sum()/len(data1) - data2.sum()/len(data2)\n",
        "\n",
        "    return diff\n",
        "\n",
        "def draw_perm_reps(data1, data2, func, size=1):\n",
        "    perm_replicates = np.empty(size)\n",
        "\n",
        "    for i in range(size):\n",
        "        perm_sample_1, perm_sample_2 = permutation_sample(data1,data2)\n",
        "        perm_replicates[i] = func(perm_sample_1,perm_sample_2)\n",
        "\n",
        "    return perm_replicates"
      ],
      "metadata": {
        "id": "nbjObtIDSCJd"
      },
      "execution_count": null,
      "outputs": []
    },
    {
      "cell_type": "code",
      "source": [
        "# Draw 10000 permutation tests\n",
        "\n",
        "perm_replicates = draw_perm_reps(male,female,diff_of_prop,size=10000)"
      ],
      "metadata": {
        "id": "Fl4404tESDhE"
      },
      "execution_count": null,
      "outputs": []
    },
    {
      "cell_type": "code",
      "source": [
        "# Calculate p value - the probability of getting a mean difference equal or greater than the observed mean difference\n",
        "\n",
        "p = np.sum(perm_replicates >= true_diff_prop) / len(perm_replicates)\n",
        "p"
      ],
      "metadata": {
        "id": "BGmiM0VsSFOZ"
      },
      "execution_count": null,
      "outputs": []
    },
    {
      "cell_type": "markdown",
      "source": [
        "#### Correlation between credit limit and sex.\n",
        "\n",
        "Since we know the credit limit is strongly correlated with default probability. Let's see if sex plays any role in credit limit and default likelihood.\n",
        "- Null hypothesis: sex has no impact on credit limit.\n",
        "- Alternative hypothesis: sex has impact on credit limit.\n",
        "- Set significance level $\\alpha$ to 0.05."
      ],
      "metadata": {
        "id": "rFPbwEnwSKvk"
      }
    },
    {
      "cell_type": "code",
      "source": [
        "# Calculate the true mean difference of credit limit\n",
        "\n",
        "male_limit= df.loc[df['SEX']=='M','LIMIT_BAL']\n",
        "female_limit = df.loc[df['SEX']=='F','LIMIT_BAL']\n",
        "print(np.mean(male_limit),np.mean(female_limit))"
      ],
      "metadata": {
        "id": "fAUy_T_xSIEf"
      },
      "execution_count": null,
      "outputs": []
    },
    {
      "cell_type": "code",
      "source": [
        "# Use t-test to verify if different sex groups have the same mean of credit limit.\n",
        "\n",
        "from scipy import stats\n",
        "from scipy.stats import ttest_ind_from_stats\n",
        "\n",
        "ttest_ind_from_stats(mean1=np.mean(male_limit),std1=np.std(male_limit),nobs1=len(male_limit),\n",
        "                     mean2=np.mean(female_limit),std2=np.std(female_limit),nobs2=len(female_limit))"
      ],
      "metadata": {
        "id": "W-TI9N1ASNAX"
      },
      "execution_count": null,
      "outputs": []
    }
  ]
}